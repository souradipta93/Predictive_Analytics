{
  "nbformat": 4,
  "nbformat_minor": 0,
  "metadata": {
    "kernelspec": {
      "display_name": "Python 3",
      "language": "python",
      "name": "python3"
    },
    "language_info": {
      "codemirror_mode": {
        "name": "ipython",
        "version": 3
      },
      "file_extension": ".py",
      "mimetype": "text/x-python",
      "name": "python",
      "nbconvert_exporter": "python",
      "pygments_lexer": "ipython3",
      "version": "3.7.3"
    },
    "colab": {
      "name": "RandomForest-BlueorRed-Final.ipynb",
      "provenance": [],
      "include_colab_link": true
    }
  },
  "cells": [
    {
      "cell_type": "markdown",
      "metadata": {
        "id": "view-in-github",
        "colab_type": "text"
      },
      "source": [
        "<a href=\"https://colab.research.google.com/github/souradipta93/Predictive_Analytics/blob/main/RandomForest.ipynb\" target=\"_parent\"><img src=\"https://colab.research.google.com/assets/colab-badge.svg\" alt=\"Open In Colab\"/></a>"
      ]
    },
    {
      "cell_type": "code",
      "metadata": {
        "id": "0eFfGkx7oGHK"
      },
      "source": [
        "#Example Problem-RandomForest-BlueorRed"
      ],
      "execution_count": null,
      "outputs": []
    },
    {
      "cell_type": "code",
      "metadata": {
        "id": "qqkHMWeVoGHM"
      },
      "source": [
        "import pandas as pd\n",
        "import numpy as np\n",
        "from sklearn.preprocessing import StandardScaler\n",
        "from sklearn.model_selection import train_test_split\n",
        "from sklearn.metrics import accuracy_score\n",
        "from sklearn.metrics import confusion_matrix,roc_curve,roc_auc_score\n",
        "from sklearn.metrics import precision_score,recall_score\n",
        "import itertools\n",
        "from sklearn.tree import DecisionTreeClassifier\n",
        "from sklearn.ensemble import RandomForestClassifier\n",
        "import seaborn as sns\n",
        "import matplotlib.pyplot as plt\n",
        "import warnings\n",
        "warnings.filterwarnings(\"ignore\")"
      ],
      "execution_count": null,
      "outputs": []
    },
    {
      "cell_type": "code",
      "metadata": {
        "id": "Ru600Z-FoGHO",
        "outputId": "f8ec5def-b362-47ab-efff-94bc47440ec5"
      },
      "source": [
        "#Reading the file\n",
        "mydata=pd.read_csv(\"BlueOrRed.csv\")\n",
        "mydata.head()\n"
      ],
      "execution_count": null,
      "outputs": [
        {
          "output_type": "execute_result",
          "data": {
            "text/html": [
              "<div>\n",
              "<style scoped>\n",
              "    .dataframe tbody tr th:only-of-type {\n",
              "        vertical-align: middle;\n",
              "    }\n",
              "\n",
              "    .dataframe tbody tr th {\n",
              "        vertical-align: top;\n",
              "    }\n",
              "\n",
              "    .dataframe thead th {\n",
              "        text-align: right;\n",
              "    }\n",
              "</style>\n",
              "<table border=\"1\" class=\"dataframe\">\n",
              "  <thead>\n",
              "    <tr style=\"text-align: right;\">\n",
              "      <th></th>\n",
              "      <th>Undecided</th>\n",
              "      <th>Age</th>\n",
              "      <th>HomeOwner</th>\n",
              "      <th>Female</th>\n",
              "      <th>Married</th>\n",
              "      <th>HouseholdSize</th>\n",
              "      <th>Income</th>\n",
              "      <th>Education</th>\n",
              "      <th>Church</th>\n",
              "    </tr>\n",
              "  </thead>\n",
              "  <tbody>\n",
              "    <tr>\n",
              "      <th>0</th>\n",
              "      <td>1</td>\n",
              "      <td>51</td>\n",
              "      <td>1</td>\n",
              "      <td>1</td>\n",
              "      <td>1</td>\n",
              "      <td>4</td>\n",
              "      <td>171.0</td>\n",
              "      <td>15</td>\n",
              "      <td>0</td>\n",
              "    </tr>\n",
              "    <tr>\n",
              "      <th>1</th>\n",
              "      <td>1</td>\n",
              "      <td>37</td>\n",
              "      <td>1</td>\n",
              "      <td>1</td>\n",
              "      <td>1</td>\n",
              "      <td>3</td>\n",
              "      <td>96.0</td>\n",
              "      <td>18</td>\n",
              "      <td>0</td>\n",
              "    </tr>\n",
              "    <tr>\n",
              "      <th>2</th>\n",
              "      <td>1</td>\n",
              "      <td>53</td>\n",
              "      <td>1</td>\n",
              "      <td>1</td>\n",
              "      <td>1</td>\n",
              "      <td>6</td>\n",
              "      <td>86.0</td>\n",
              "      <td>20</td>\n",
              "      <td>0</td>\n",
              "    </tr>\n",
              "    <tr>\n",
              "      <th>3</th>\n",
              "      <td>0</td>\n",
              "      <td>33</td>\n",
              "      <td>1</td>\n",
              "      <td>1</td>\n",
              "      <td>1</td>\n",
              "      <td>2</td>\n",
              "      <td>176.0</td>\n",
              "      <td>18</td>\n",
              "      <td>1</td>\n",
              "    </tr>\n",
              "    <tr>\n",
              "      <th>4</th>\n",
              "      <td>0</td>\n",
              "      <td>46</td>\n",
              "      <td>1</td>\n",
              "      <td>1</td>\n",
              "      <td>1</td>\n",
              "      <td>6</td>\n",
              "      <td>420.0</td>\n",
              "      <td>15</td>\n",
              "      <td>1</td>\n",
              "    </tr>\n",
              "  </tbody>\n",
              "</table>\n",
              "</div>"
            ],
            "text/plain": [
              "   Undecided  Age  HomeOwner  Female  Married  HouseholdSize  Income  \\\n",
              "0          1   51          1       1        1              4   171.0   \n",
              "1          1   37          1       1        1              3    96.0   \n",
              "2          1   53          1       1        1              6    86.0   \n",
              "3          0   33          1       1        1              2   176.0   \n",
              "4          0   46          1       1        1              6   420.0   \n",
              "\n",
              "   Education  Church  \n",
              "0         15       0  \n",
              "1         18       0  \n",
              "2         20       0  \n",
              "3         18       1  \n",
              "4         15       1  "
            ]
          },
          "metadata": {
            "tags": []
          },
          "execution_count": 3
        }
      ]
    },
    {
      "cell_type": "code",
      "metadata": {
        "id": "9ajEIjZooGHP",
        "outputId": "98b1eec7-16c5-4547-dab6-b09d84a049f9"
      },
      "source": [
        "Y=mydata[\"Undecided\"]\n",
        "X=mydata.iloc[:,1:9]\n",
        "print(mydata.head())"
      ],
      "execution_count": null,
      "outputs": [
        {
          "output_type": "stream",
          "text": [
            "   Undecided  Age  HomeOwner  Female  Married  HouseholdSize  Income  \\\n",
            "0          1   51          1       1        1              4   171.0   \n",
            "1          1   37          1       1        1              3    96.0   \n",
            "2          1   53          1       1        1              6    86.0   \n",
            "3          0   33          1       1        1              2   176.0   \n",
            "4          0   46          1       1        1              6   420.0   \n",
            "\n",
            "   Education  Church  \n",
            "0         15       0  \n",
            "1         18       0  \n",
            "2         20       0  \n",
            "3         18       1  \n",
            "4         15       1  \n"
          ],
          "name": "stdout"
        }
      ]
    },
    {
      "cell_type": "code",
      "metadata": {
        "id": "JFmFFS1RoGHQ",
        "outputId": "b1afdeee-023d-41ac-a8f9-374c4b7b495d"
      },
      "source": [
        "X_train,X_test,Y_train,Y_test=train_test_split(X,Y,test_size=0.3,random_state=2)\n",
        "X_train.shape    "
      ],
      "execution_count": null,
      "outputs": [
        {
          "output_type": "execute_result",
          "data": {
            "text/plain": [
              "(7000, 8)"
            ]
          },
          "metadata": {
            "tags": []
          },
          "execution_count": 5
        }
      ]
    },
    {
      "cell_type": "code",
      "metadata": {
        "id": "NiuhOO5MoGHQ",
        "outputId": "195dc656-ca9c-496f-ce14-e3fd63ea81fc"
      },
      "source": [
        "radom_clf=RandomForestClassifier(max_depth=20,n_estimators=10,random_state=2)\n",
        "radom_clf.fit(X_train,Y_train)\n",
        " \n",
        "\n"
      ],
      "execution_count": null,
      "outputs": [
        {
          "output_type": "execute_result",
          "data": {
            "text/plain": [
              "RandomForestClassifier(bootstrap=True, class_weight=None, criterion='gini',\n",
              "                       max_depth=20, max_features='auto', max_leaf_nodes=None,\n",
              "                       min_impurity_decrease=0.0, min_impurity_split=None,\n",
              "                       min_samples_leaf=1, min_samples_split=2,\n",
              "                       min_weight_fraction_leaf=0.0, n_estimators=10,\n",
              "                       n_jobs=None, oob_score=False, random_state=2, verbose=0,\n",
              "                       warm_start=False)"
            ]
          },
          "metadata": {
            "tags": []
          },
          "execution_count": 6
        }
      ]
    },
    {
      "cell_type": "code",
      "metadata": {
        "id": "9c2gYbdAoGHR",
        "outputId": "128434e4-df26-44f0-fb35-511e4ff395d6"
      },
      "source": [
        "prediction=radom_clf.predict(X_train)\n",
        "prediction\n",
        "print(prediction)\n",
        "Prediction=pd.DataFrame(prediction)\n",
        "Prediction=Prediction.iloc[:,1:9]"
      ],
      "execution_count": null,
      "outputs": [
        {
          "output_type": "stream",
          "text": [
            "[1 1 0 ... 1 0 0]\n"
          ],
          "name": "stdout"
        }
      ]
    },
    {
      "cell_type": "code",
      "metadata": {
        "id": "u1ieqGkCoGHR",
        "outputId": "32496239-14bc-4f5f-abb0-4234955fbcda"
      },
      "source": [
        "pred_prob=radom_clf.predict_proba(X_train)\n",
        "pred_prob=pd.DataFrame(pred_prob)\n",
        "print(pred_prob)\n",
        "pred_class=(pred_prob[1]>=0.5).astype(np.int)\n",
        "    \n",
        "    "
      ],
      "execution_count": null,
      "outputs": [
        {
          "output_type": "stream",
          "text": [
            "        0    1\n",
            "0     0.0  1.0\n",
            "1     0.0  1.0\n",
            "2     1.0  0.0\n",
            "3     0.0  1.0\n",
            "4     1.0  0.0\n",
            "5     0.0  1.0\n",
            "6     0.2  0.8\n",
            "7     0.0  1.0\n",
            "8     0.1  0.9\n",
            "9     1.0  0.0\n",
            "10    1.0  0.0\n",
            "11    0.0  1.0\n",
            "12    1.0  0.0\n",
            "13    0.0  1.0\n",
            "14    0.0  1.0\n",
            "15    1.0  0.0\n",
            "16    0.9  0.1\n",
            "17    0.8  0.2\n",
            "18    0.0  1.0\n",
            "19    1.0  0.0\n",
            "20    0.0  1.0\n",
            "21    0.9  0.1\n",
            "22    0.0  1.0\n",
            "23    0.9  0.1\n",
            "24    0.9  0.1\n",
            "25    1.0  0.0\n",
            "26    1.0  0.0\n",
            "27    0.0  1.0\n",
            "28    0.0  1.0\n",
            "29    1.0  0.0\n",
            "...   ...  ...\n",
            "6970  0.0  1.0\n",
            "6971  0.9  0.1\n",
            "6972  0.0  1.0\n",
            "6973  1.0  0.0\n",
            "6974  0.0  1.0\n",
            "6975  0.9  0.1\n",
            "6976  0.0  1.0\n",
            "6977  0.0  1.0\n",
            "6978  1.0  0.0\n",
            "6979  0.9  0.1\n",
            "6980  1.0  0.0\n",
            "6981  0.9  0.1\n",
            "6982  0.2  0.8\n",
            "6983  1.0  0.0\n",
            "6984  1.0  0.0\n",
            "6985  0.0  1.0\n",
            "6986  1.0  0.0\n",
            "6987  0.1  0.9\n",
            "6988  1.0  0.0\n",
            "6989  1.0  0.0\n",
            "6990  1.0  0.0\n",
            "6991  0.0  1.0\n",
            "6992  1.0  0.0\n",
            "6993  1.0  0.0\n",
            "6994  1.0  0.0\n",
            "6995  0.0  1.0\n",
            "6996  0.9  0.1\n",
            "6997  0.2  0.8\n",
            "6998  1.0  0.0\n",
            "6999  1.0  0.0\n",
            "\n",
            "[7000 rows x 2 columns]\n"
          ],
          "name": "stdout"
        }
      ]
    },
    {
      "cell_type": "code",
      "metadata": {
        "id": "Ln_h7iZOoGHS",
        "outputId": "f10be731-aca9-463e-d777-81ae6c794515"
      },
      "source": [
        "cm=confusion_matrix(Y_train,prediction)\n",
        "sns.heatmap(cm,annot=True,cmap=\"Oranges\",fmt=\".0f\")"
      ],
      "execution_count": null,
      "outputs": [
        {
          "output_type": "execute_result",
          "data": {
            "text/plain": [
              "<matplotlib.axes._subplots.AxesSubplot at 0x235a9eb9cf8>"
            ]
          },
          "metadata": {
            "tags": []
          },
          "execution_count": 9
        },
        {
          "output_type": "display_data",
          "data": {
            "image/png": "[encoded data removed]",
            "text/plain": [
              "<Figure size 432x288 with 2 Axes>"
            ]
          },
          "metadata": {
            "tags": [],
            "needs_background": "light"
          }
        }
      ]
    },
    {
      "cell_type": "code",
      "metadata": {
        "id": "sPhv-sYtoGHS",
        "outputId": "66d588cc-3d0a-4d05-d3bd-b2441b3e9010"
      },
      "source": [
        "from sklearn.metrics import classification_report\n",
        "Report=classification_report(Y_train,prediction)\n",
        "print((Report))  "
      ],
      "execution_count": null,
      "outputs": [
        {
          "output_type": "stream",
          "text": [
            "              precision    recall  f1-score   support\n",
            "\n",
            "           0       0.99      1.00      1.00      4211\n",
            "           1       1.00      0.99      0.99      2789\n",
            "\n",
            "    accuracy                           0.99      7000\n",
            "   macro avg       1.00      0.99      0.99      7000\n",
            "weighted avg       0.99      0.99      0.99      7000\n",
            "\n"
          ],
          "name": "stdout"
        }
      ]
    },
    {
      "cell_type": "code",
      "metadata": {
        "id": "aMNXlAhFoGHT",
        "outputId": "fa096d44-c70d-4f7f-ee8b-bb884ce05112"
      },
      "source": [
        "importances=radom_clf.feature_importances_\n",
        "importances\n",
        "importances=pd.DataFrame(importances)\n",
        "Importance=importances.transpose()\n",
        "Importance.columns=[\"Age\",\"HomeOwner\",\"Female\",\"Married\",\"HouseholdSize\",\n",
        "                    \"Income\",\"Education\",\"Church\"]\n",
        "Importance"
      ],
      "execution_count": null,
      "outputs": [
        {
          "output_type": "execute_result",
          "data": {
            "text/html": [
              "<div>\n",
              "<style scoped>\n",
              "    .dataframe tbody tr th:only-of-type {\n",
              "        vertical-align: middle;\n",
              "    }\n",
              "\n",
              "    .dataframe tbody tr th {\n",
              "        vertical-align: top;\n",
              "    }\n",
              "\n",
              "    .dataframe thead th {\n",
              "        text-align: right;\n",
              "    }\n",
              "</style>\n",
              "<table border=\"1\" class=\"dataframe\">\n",
              "  <thead>\n",
              "    <tr style=\"text-align: right;\">\n",
              "      <th></th>\n",
              "      <th>Age</th>\n",
              "      <th>HomeOwner</th>\n",
              "      <th>Female</th>\n",
              "      <th>Married</th>\n",
              "      <th>HouseholdSize</th>\n",
              "      <th>Income</th>\n",
              "      <th>Education</th>\n",
              "      <th>Church</th>\n",
              "    </tr>\n",
              "  </thead>\n",
              "  <tbody>\n",
              "    <tr>\n",
              "      <th>0</th>\n",
              "      <td>0.053015</td>\n",
              "      <td>0.012336</td>\n",
              "      <td>0.063384</td>\n",
              "      <td>0.004674</td>\n",
              "      <td>0.025684</td>\n",
              "      <td>0.147882</td>\n",
              "      <td>0.508932</td>\n",
              "      <td>0.184093</td>\n",
              "    </tr>\n",
              "  </tbody>\n",
              "</table>\n",
              "</div>"
            ],
            "text/plain": [
              "        Age  HomeOwner    Female   Married  HouseholdSize    Income  \\\n",
              "0  0.053015   0.012336  0.063384  0.004674       0.025684  0.147882   \n",
              "\n",
              "   Education    Church  \n",
              "0   0.508932  0.184093  "
            ]
          },
          "metadata": {
            "tags": []
          },
          "execution_count": 11
        }
      ]
    },
    {
      "cell_type": "code",
      "metadata": {
        "id": "KOHTQ0QkoGHT",
        "outputId": "4aae3cb3-79be-4b6e-a925-ed4487aac806"
      },
      "source": [
        "from sklearn.model_selection import GridSearchCV\n",
        "tuned_parameters=[{\"n_estimators\":[10,20],\n",
        "                  \"max_depth\":range(10,20),\n",
        "                   \"max_features\":[\"sqrt\",0.2]}]\n",
        "radom_clf=RandomForestClassifier()\n",
        "clf=GridSearchCV(radom_clf,\n",
        "                tuned_parameters,\n",
        "                cv=10,\n",
        "                scoring=\"roc_auc\")\n",
        "clf.fit(X_train,Y_train)"
      ],
      "execution_count": null,
      "outputs": [
        {
          "output_type": "execute_result",
          "data": {
            "text/plain": [
              "GridSearchCV(cv=10, error_score='raise-deprecating',\n",
              "             estimator=RandomForestClassifier(bootstrap=True, class_weight=None,\n",
              "                                              criterion='gini', max_depth=None,\n",
              "                                              max_features='auto',\n",
              "                                              max_leaf_nodes=None,\n",
              "                                              min_impurity_decrease=0.0,\n",
              "                                              min_impurity_split=None,\n",
              "                                              min_samples_leaf=1,\n",
              "                                              min_samples_split=2,\n",
              "                                              min_weight_fraction_leaf=0.0,\n",
              "                                              n_estimators='warn', n_jobs=None,\n",
              "                                              oob_score=False,\n",
              "                                              random_state=None, verbose=0,\n",
              "                                              warm_start=False),\n",
              "             iid='warn', n_jobs=None,\n",
              "             param_grid=[{'max_depth': range(10, 20),\n",
              "                          'max_features': ['sqrt', 0.2],\n",
              "                          'n_estimators': [10, 20]}],\n",
              "             pre_dispatch='2*n_jobs', refit=True, return_train_score=False,\n",
              "             scoring='roc_auc', verbose=0)"
            ]
          },
          "metadata": {
            "tags": []
          },
          "execution_count": 23
        }
      ]
    },
    {
      "cell_type": "code",
      "metadata": {
        "id": "zKTOINWKoGHU",
        "outputId": "5fc2a38b-faad-4e44-d6a0-b6e21488c4d1"
      },
      "source": [
        "clf.best_score_"
      ],
      "execution_count": null,
      "outputs": [
        {
          "output_type": "execute_result",
          "data": {
            "text/plain": [
              "0.9839765282776991"
            ]
          },
          "metadata": {
            "tags": []
          },
          "execution_count": 13
        }
      ]
    },
    {
      "cell_type": "code",
      "metadata": {
        "id": "VAX5jvnRoGHU",
        "outputId": "65d17cb3-7845-4c97-d13b-7fe59b81599c"
      },
      "source": [
        "clf.best_params_"
      ],
      "execution_count": null,
      "outputs": [
        {
          "output_type": "execute_result",
          "data": {
            "text/plain": [
              "{'max_depth': 16, 'max_features': 'sqrt', 'n_estimators': 20}"
            ]
          },
          "metadata": {
            "tags": []
          },
          "execution_count": 14
        }
      ]
    },
    {
      "cell_type": "code",
      "metadata": {
        "id": "VvVZcjDOoGHV",
        "outputId": "02f603ce-0064-47fd-b993-cb468e3b3acf"
      },
      "source": [
        "from sklearn.metrics import(roc_auc_score,roc_curve)\n",
        "Y_train.head()\n",
        "pred_class\n",
        "rf_auc=roc_auc_score(Y_train.astype(int),pred_class)\n",
        "fpr,tpr,thresholds=roc_curve(Y_train.astype(int),pred_prob[1])\n",
        "plt.figure()\n",
        "plt.plot(fpr,tpr,label=\"Random Forest(area=%0.3f)\" % rf_auc,lw=4,color=\"red\")\n",
        "plt.plot([0,1],[0,1],\"r--\")\n",
        "plt.xlim([0,1])\n",
        "plt.ylim([0,1.05])\n",
        "plt.xlabel(\"False Positive\")\n",
        "plt.ylabel(\"True Positive\")\n",
        "plt.title(\"Receiver Operating Characteristics Curve\")\n",
        "plt.legend(loc=\"lower right\")\n",
        "plt.show()\n"
      ],
      "execution_count": null,
      "outputs": [
        {
          "output_type": "display_data",
          "data": {
            "image/png": "[encoded data removed]",
            "text/plain": [
              "<Figure size 432x288 with 1 Axes>"
            ]
          },
          "metadata": {
            "tags": [],
            "needs_background": "light"
          }
        }
      ]
    },
    {
      "cell_type": "code",
      "metadata": {
        "id": "WANG89eGoGHV",
        "outputId": "af3e42d0-def8-4793-fdf8-6ff4fcb57dbe"
      },
      "source": [
        "radom_clf=RandomForestClassifier(max_depth=20,n_estimators=10,random_state=2)\n",
        "radom_clf.fit(X_train,Y_train)\n",
        " \n",
        "\n"
      ],
      "execution_count": null,
      "outputs": [
        {
          "output_type": "execute_result",
          "data": {
            "text/plain": [
              "RandomForestClassifier(bootstrap=True, class_weight=None, criterion='gini',\n",
              "                       max_depth=20, max_features='auto', max_leaf_nodes=None,\n",
              "                       min_impurity_decrease=0.0, min_impurity_split=None,\n",
              "                       min_samples_leaf=1, min_samples_split=2,\n",
              "                       min_weight_fraction_leaf=0.0, n_estimators=10,\n",
              "                       n_jobs=None, oob_score=False, random_state=2, verbose=0,\n",
              "                       warm_start=False)"
            ]
          },
          "metadata": {
            "tags": []
          },
          "execution_count": 16
        }
      ]
    },
    {
      "cell_type": "code",
      "metadata": {
        "id": "D-W4dguyoGHV",
        "outputId": "58de4f3c-6308-4fff-bf8a-a6fdbab30ba4"
      },
      "source": [
        "prediction=radom_clf.predict(X_test)\n",
        "prediction\n",
        "print(prediction)\n",
        "Prediction=pd.DataFrame(prediction)\n",
        "Prediction=Prediction.iloc[:,1:9]"
      ],
      "execution_count": null,
      "outputs": [
        {
          "output_type": "stream",
          "text": [
            "[1 0 0 ... 0 0 0]\n"
          ],
          "name": "stdout"
        }
      ]
    },
    {
      "cell_type": "code",
      "metadata": {
        "id": "3yPgySzOoGHW",
        "outputId": "18da2b15-fc3e-4b03-f687-aff61674e57f"
      },
      "source": [
        "pred_prob=radom_clf.predict_proba(X_test)\n",
        "pred_prob=pd.DataFrame(pred_prob)\n",
        "print(pred_prob)\n",
        "pred_class=(pred_prob[1]>=0.5).astype(np.int)\n",
        "    \n",
        "    "
      ],
      "execution_count": null,
      "outputs": [
        {
          "output_type": "stream",
          "text": [
            "         0     1\n",
            "0     0.00  1.00\n",
            "1     1.00  0.00\n",
            "2     1.00  0.00\n",
            "3     0.00  1.00\n",
            "4     0.00  1.00\n",
            "5     0.00  1.00\n",
            "6     0.00  1.00\n",
            "7     0.00  1.00\n",
            "8     0.90  0.10\n",
            "9     0.00  1.00\n",
            "10    0.10  0.90\n",
            "11    1.00  0.00\n",
            "12    1.00  0.00\n",
            "13    0.00  1.00\n",
            "14    0.00  1.00\n",
            "15    1.00  0.00\n",
            "16    0.20  0.80\n",
            "17    0.10  0.90\n",
            "18    1.00  0.00\n",
            "19    0.90  0.10\n",
            "20    1.00  0.00\n",
            "21    1.00  0.00\n",
            "22    0.90  0.10\n",
            "23    0.00  1.00\n",
            "24    0.90  0.10\n",
            "25    0.90  0.10\n",
            "26    0.80  0.20\n",
            "27    0.90  0.10\n",
            "28    1.00  0.00\n",
            "29    0.00  1.00\n",
            "...    ...   ...\n",
            "2970  0.00  1.00\n",
            "2971  1.00  0.00\n",
            "2972  0.10  0.90\n",
            "2973  0.00  1.00\n",
            "2974  0.00  1.00\n",
            "2975  1.00  0.00\n",
            "2976  1.00  0.00\n",
            "2977  1.00  0.00\n",
            "2978  1.00  0.00\n",
            "2979  0.90  0.10\n",
            "2980  1.00  0.00\n",
            "2981  1.00  0.00\n",
            "2982  1.00  0.00\n",
            "2983  0.22  0.78\n",
            "2984  0.00  1.00\n",
            "2985  0.00  1.00\n",
            "2986  0.80  0.20\n",
            "2987  0.00  1.00\n",
            "2988  1.00  0.00\n",
            "2989  1.00  0.00\n",
            "2990  0.00  1.00\n",
            "2991  0.90  0.10\n",
            "2992  0.90  0.10\n",
            "2993  1.00  0.00\n",
            "2994  0.80  0.20\n",
            "2995  0.00  1.00\n",
            "2996  0.00  1.00\n",
            "2997  0.90  0.10\n",
            "2998  1.00  0.00\n",
            "2999  1.00  0.00\n",
            "\n",
            "[3000 rows x 2 columns]\n"
          ],
          "name": "stdout"
        }
      ]
    },
    {
      "cell_type": "code",
      "metadata": {
        "id": "lE3XFEg6oGHW",
        "outputId": "69e58460-f7fb-4134-869f-1d5ff878b73e"
      },
      "source": [
        "cm=confusion_matrix(Y_test,prediction)\n",
        "sns.heatmap(cm,annot=True,cmap=\"Oranges\",fmt=\".0f\")"
      ],
      "execution_count": null,
      "outputs": [
        {
          "output_type": "execute_result",
          "data": {
            "text/plain": [
              "<matplotlib.axes._subplots.AxesSubplot at 0x235aa097b70>"
            ]
          },
          "metadata": {
            "tags": []
          },
          "execution_count": 19
        },
        {
          "output_type": "display_data",
          "data": {
            "image/png": "[encoded data removed]",
            "text/plain": [
              "<Figure size 432x288 with 2 Axes>"
            ]
          },
          "metadata": {
            "tags": [],
            "needs_background": "light"
          }
        }
      ]
    },
    {
      "cell_type": "code",
      "metadata": {
        "id": "hUazp_u9oGHX",
        "outputId": "f76985bf-b77c-4123-d1b6-faf5ad38bfa8"
      },
      "source": [
        "from sklearn.metrics import classification_report\n",
        "Report=classification_report(Y_test,prediction)\n",
        "print((Report))  "
      ],
      "execution_count": null,
      "outputs": [
        {
          "output_type": "stream",
          "text": [
            "              precision    recall  f1-score   support\n",
            "\n",
            "           0       0.97      1.00      0.98      1775\n",
            "           1       0.99      0.96      0.98      1225\n",
            "\n",
            "    accuracy                           0.98      3000\n",
            "   macro avg       0.98      0.98      0.98      3000\n",
            "weighted avg       0.98      0.98      0.98      3000\n",
            "\n"
          ],
          "name": "stdout"
        }
      ]
    },
    {
      "cell_type": "code",
      "metadata": {
        "id": "FcmH-7hVoGHX",
        "outputId": "11e38404-b888-4926-a7fe-abccf8cb175f"
      },
      "source": [
        "importances=radom_clf.feature_importances_\n",
        "importances\n",
        "importances=pd.DataFrame(importances)\n",
        "Importance=importances.transpose()\n",
        "Importance.columns=[\"Age\",\"HomeOwner\",\"Female\",\"Married\",\"HouseholdSize\",\n",
        "                    \"Income\",\"Education\",\"Church\"]\n",
        "Importance"
      ],
      "execution_count": null,
      "outputs": [
        {
          "output_type": "execute_result",
          "data": {
            "text/html": [
              "<div>\n",
              "<style scoped>\n",
              "    .dataframe tbody tr th:only-of-type {\n",
              "        vertical-align: middle;\n",
              "    }\n",
              "\n",
              "    .dataframe tbody tr th {\n",
              "        vertical-align: top;\n",
              "    }\n",
              "\n",
              "    .dataframe thead th {\n",
              "        text-align: right;\n",
              "    }\n",
              "</style>\n",
              "<table border=\"1\" class=\"dataframe\">\n",
              "  <thead>\n",
              "    <tr style=\"text-align: right;\">\n",
              "      <th></th>\n",
              "      <th>Age</th>\n",
              "      <th>HomeOwner</th>\n",
              "      <th>Female</th>\n",
              "      <th>Married</th>\n",
              "      <th>HouseholdSize</th>\n",
              "      <th>Income</th>\n",
              "      <th>Education</th>\n",
              "      <th>Church</th>\n",
              "    </tr>\n",
              "  </thead>\n",
              "  <tbody>\n",
              "    <tr>\n",
              "      <th>0</th>\n",
              "      <td>0.053015</td>\n",
              "      <td>0.012336</td>\n",
              "      <td>0.063384</td>\n",
              "      <td>0.004674</td>\n",
              "      <td>0.025684</td>\n",
              "      <td>0.147882</td>\n",
              "      <td>0.508932</td>\n",
              "      <td>0.184093</td>\n",
              "    </tr>\n",
              "  </tbody>\n",
              "</table>\n",
              "</div>"
            ],
            "text/plain": [
              "        Age  HomeOwner    Female   Married  HouseholdSize    Income  \\\n",
              "0  0.053015   0.012336  0.063384  0.004674       0.025684  0.147882   \n",
              "\n",
              "   Education    Church  \n",
              "0   0.508932  0.184093  "
            ]
          },
          "metadata": {
            "tags": []
          },
          "execution_count": 21
        }
      ]
    },
    {
      "cell_type": "code",
      "metadata": {
        "id": "vpWyadYLoGHY"
      },
      "source": [
        ""
      ],
      "execution_count": null,
      "outputs": []
    }
  ]
}