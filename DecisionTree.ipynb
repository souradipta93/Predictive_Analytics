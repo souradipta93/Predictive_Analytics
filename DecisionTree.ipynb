{
  "nbformat": 4,
  "nbformat_minor": 0,
  "metadata": {
    "kernelspec": {
      "display_name": "Python 3",
      "language": "python",
      "name": "python3"
    },
    "language_info": {
      "codemirror_mode": {
        "name": "ipython",
        "version": 3
      },
      "file_extension": ".py",
      "mimetype": "text/x-python",
      "name": "python",
      "nbconvert_exporter": "python",
      "pygments_lexer": "ipython3",
      "version": "3.7.3"
    },
    "colab": {
      "name": "DecisionTree.ipynb",
      "provenance": [],
      "include_colab_link": true
    }
  },
  "cells": [
    {
      "cell_type": "markdown",
      "metadata": {
        "id": "view-in-github",
        "colab_type": "text"
      },
      "source": [
        "<a href=\"https://colab.research.google.com/github/souradipta93/Predictive_Analytics/blob/main/DecisionTree.ipynb\" target=\"_parent\"><img src=\"https://colab.research.google.com/assets/colab-badge.svg\" alt=\"Open In Colab\"/></a>"
      ]
    },
    {
      "cell_type": "code",
      "metadata": {
        "id": "ECuUEDt3mj5R"
      },
      "source": [
        "#Example Problem-Decision Tree-Blue or Red"
      ],
      "execution_count": null,
      "outputs": []
    },
    {
      "cell_type": "code",
      "metadata": {
        "id": "l1_LSmqEmj5S"
      },
      "source": [
        "import pandas as pd\n",
        "import numpy as np\n",
        "from sklearn.preprocessing import StandardScaler\n",
        "from sklearn.model_selection import train_test_split\n",
        "from sklearn.metrics import accuracy_score\n",
        "from sklearn.metrics import confusion_matrix,roc_curve,roc_auc_score\n",
        "from sklearn.metrics import precision_score,recall_score\n",
        "import itertools\n",
        "from sklearn.tree import DecisionTreeClassifier\n",
        "import seaborn as sns\n",
        "import matplotlib.pyplot as plt\n",
        "import warnings\n",
        "warnings.filterwarnings(\"ignore\")"
      ],
      "execution_count": null,
      "outputs": []
    },
    {
      "cell_type": "code",
      "metadata": {
        "id": "Xuo-_M71mj5T",
        "outputId": "efb65675-2c4e-4bba-a2c9-ad2e09bb6505"
      },
      "source": [
        "#Reading the file\n",
        "mydata=pd.read_csv(\"BlueOrRed.csv\")\n",
        "mydata.head()"
      ],
      "execution_count": null,
      "outputs": [
        {
          "output_type": "execute_result",
          "data": {
            "text/html": [
              "<div>\n",
              "<style scoped>\n",
              "    .dataframe tbody tr th:only-of-type {\n",
              "        vertical-align: middle;\n",
              "    }\n",
              "\n",
              "    .dataframe tbody tr th {\n",
              "        vertical-align: top;\n",
              "    }\n",
              "\n",
              "    .dataframe thead th {\n",
              "        text-align: right;\n",
              "    }\n",
              "</style>\n",
              "<table border=\"1\" class=\"dataframe\">\n",
              "  <thead>\n",
              "    <tr style=\"text-align: right;\">\n",
              "      <th></th>\n",
              "      <th>Undecided</th>\n",
              "      <th>Age</th>\n",
              "      <th>HomeOwner</th>\n",
              "      <th>Female</th>\n",
              "      <th>Married</th>\n",
              "      <th>HouseholdSize</th>\n",
              "      <th>Income</th>\n",
              "      <th>Education</th>\n",
              "      <th>Church</th>\n",
              "    </tr>\n",
              "  </thead>\n",
              "  <tbody>\n",
              "    <tr>\n",
              "      <th>0</th>\n",
              "      <td>1</td>\n",
              "      <td>51</td>\n",
              "      <td>1</td>\n",
              "      <td>1</td>\n",
              "      <td>1</td>\n",
              "      <td>4</td>\n",
              "      <td>171.0</td>\n",
              "      <td>15</td>\n",
              "      <td>0</td>\n",
              "    </tr>\n",
              "    <tr>\n",
              "      <th>1</th>\n",
              "      <td>1</td>\n",
              "      <td>37</td>\n",
              "      <td>1</td>\n",
              "      <td>1</td>\n",
              "      <td>1</td>\n",
              "      <td>3</td>\n",
              "      <td>96.0</td>\n",
              "      <td>18</td>\n",
              "      <td>0</td>\n",
              "    </tr>\n",
              "    <tr>\n",
              "      <th>2</th>\n",
              "      <td>1</td>\n",
              "      <td>53</td>\n",
              "      <td>1</td>\n",
              "      <td>1</td>\n",
              "      <td>1</td>\n",
              "      <td>6</td>\n",
              "      <td>86.0</td>\n",
              "      <td>20</td>\n",
              "      <td>0</td>\n",
              "    </tr>\n",
              "    <tr>\n",
              "      <th>3</th>\n",
              "      <td>0</td>\n",
              "      <td>33</td>\n",
              "      <td>1</td>\n",
              "      <td>1</td>\n",
              "      <td>1</td>\n",
              "      <td>2</td>\n",
              "      <td>176.0</td>\n",
              "      <td>18</td>\n",
              "      <td>1</td>\n",
              "    </tr>\n",
              "    <tr>\n",
              "      <th>4</th>\n",
              "      <td>0</td>\n",
              "      <td>46</td>\n",
              "      <td>1</td>\n",
              "      <td>1</td>\n",
              "      <td>1</td>\n",
              "      <td>6</td>\n",
              "      <td>420.0</td>\n",
              "      <td>15</td>\n",
              "      <td>1</td>\n",
              "    </tr>\n",
              "  </tbody>\n",
              "</table>\n",
              "</div>"
            ],
            "text/plain": [
              "   Undecided  Age  HomeOwner  Female  Married  HouseholdSize  Income  \\\n",
              "0          1   51          1       1        1              4   171.0   \n",
              "1          1   37          1       1        1              3    96.0   \n",
              "2          1   53          1       1        1              6    86.0   \n",
              "3          0   33          1       1        1              2   176.0   \n",
              "4          0   46          1       1        1              6   420.0   \n",
              "\n",
              "   Education  Church  \n",
              "0         15       0  \n",
              "1         18       0  \n",
              "2         20       0  \n",
              "3         18       1  \n",
              "4         15       1  "
            ]
          },
          "metadata": {
            "tags": []
          },
          "execution_count": 7
        }
      ]
    },
    {
      "cell_type": "code",
      "metadata": {
        "id": "SAPs-gd4mj5V",
        "outputId": "54f58841-b6b4-4e76-99af-f92e62600c4d"
      },
      "source": [
        "Y=mydata[\"Undecided\"]\n",
        "X=mydata.iloc[:,1:9]\n",
        "print(Y.head())\n",
        "print(X.head())"
      ],
      "execution_count": null,
      "outputs": [
        {
          "output_type": "stream",
          "text": [
            "0    1\n",
            "1    1\n",
            "2    1\n",
            "3    0\n",
            "4    0\n",
            "Name: Undecided, dtype: int64\n",
            "   Age  HomeOwner  Female  Married  HouseholdSize  Income  Education  Church\n",
            "0   51          1       1        1              4   171.0         15       0\n",
            "1   37          1       1        1              3    96.0         18       0\n",
            "2   53          1       1        1              6    86.0         20       0\n",
            "3   33          1       1        1              2   176.0         18       1\n",
            "4   46          1       1        1              6   420.0         15       1\n"
          ],
          "name": "stdout"
        }
      ]
    },
    {
      "cell_type": "code",
      "metadata": {
        "id": "-quYWJa0mj5V",
        "outputId": "cf4739e4-bff2-4bbd-ccb8-3b9100ae850a"
      },
      "source": [
        "X_train,X_test,Y_train,Y_test=train_test_split(X,Y,test_size=0.3,random_state=2)\n",
        "X_train.shape"
      ],
      "execution_count": null,
      "outputs": [
        {
          "output_type": "execute_result",
          "data": {
            "text/plain": [
              "(7000, 8)"
            ]
          },
          "metadata": {
            "tags": []
          },
          "execution_count": 9
        }
      ]
    },
    {
      "cell_type": "markdown",
      "metadata": {
        "id": "MvHG2LuUmj5W"
      },
      "source": [
        "clf_tree=DecisionTreeClassifier(criterion=\"gini\",max_depth=6)\n",
        "clf_tree.fit(X,Y)\n"
      ]
    },
    {
      "cell_type": "code",
      "metadata": {
        "id": "ztD8zrsfmj5W"
      },
      "source": [
        "from sklearn.tree import DecisionTreeClassifier\n",
        "clf_tree=DecisionTreeClassifier()\n",
        "clf_tree=DecisionTreeClassifier(criterion=\"gini\",max_depth=3)\n",
        "clf_tree.fit(X_train,Y_train)\n",
        "tree_predict=clf_tree.predict(X_train)\n",
        "round(accuracy_score(Y_train,tree_predict),3)\n",
        "pred_prob=clf_tree.predict_proba(X_train)\n"
      ],
      "execution_count": null,
      "outputs": []
    },
    {
      "cell_type": "code",
      "metadata": {
        "id": "y-sy7E5Qmj5X",
        "outputId": "bca95586-3a04-458d-df18-ec6baee95a84"
      },
      "source": [
        "from sklearn import tree\n",
        "tree.plot_tree(clf_tree,filled=True)"
      ],
      "execution_count": null,
      "outputs": [
        {
          "output_type": "execute_result",
          "data": {
            "text/plain": [
              "[Text(167.4, 190.26, 'X[6] <= 12.5\\nentropy = 0.479\\nsamples = 7000\\nvalue = [4211, 2789]'),\n",
              " Text(83.7, 135.9, 'X[5] <= 217.5\\nentropy = 0.042\\nsamples = 2092\\nvalue = [2047, 45]'),\n",
              " Text(41.85, 81.53999999999999, 'X[0] <= 36.5\\nentropy = 0.039\\nsamples = 2004\\nvalue = [1964, 40]'),\n",
              " Text(20.925, 27.180000000000007, 'entropy = 0.014\\nsamples = 549\\nvalue = [545, 4]'),\n",
              " Text(62.775000000000006, 27.180000000000007, 'entropy = 0.048\\nsamples = 1455\\nvalue = [1419, 36]'),\n",
              " Text(125.55000000000001, 81.53999999999999, 'X[5] <= 219.0\\nentropy = 0.107\\nsamples = 88\\nvalue = [83, 5]'),\n",
              " Text(104.625, 27.180000000000007, 'entropy = 0.0\\nsamples = 1\\nvalue = [0, 1]'),\n",
              " Text(146.475, 27.180000000000007, 'entropy = 0.088\\nsamples = 87\\nvalue = [83, 4]'),\n",
              " Text(251.10000000000002, 135.9, 'X[7] <= 0.5\\nentropy = 0.493\\nsamples = 4908\\nvalue = [2164, 2744]'),\n",
              " Text(209.25, 81.53999999999999, 'X[2] <= 0.5\\nentropy = 0.336\\nsamples = 2420\\nvalue = [518, 1902]'),\n",
              " Text(188.32500000000002, 27.180000000000007, 'entropy = 0.435\\nsamples = 535\\nvalue = [364, 171]'),\n",
              " Text(230.175, 27.180000000000007, 'entropy = 0.15\\nsamples = 1885\\nvalue = [154, 1731]'),\n",
              " Text(292.95, 81.53999999999999, 'X[6] <= 16.5\\nentropy = 0.448\\nsamples = 2488\\nvalue = [1646, 842]'),\n",
              " Text(272.02500000000003, 27.180000000000007, 'entropy = 0.277\\nsamples = 957\\nvalue = [159, 798]'),\n",
              " Text(313.875, 27.180000000000007, 'entropy = 0.056\\nsamples = 1531\\nvalue = [1487, 44]')]"
            ]
          },
          "metadata": {
            "tags": []
          },
          "execution_count": 11
        },
        {
          "output_type": "display_data",
          "data": {
            "image/png": "[encoded data removed]",
            "text/plain": [
              "<Figure size 432x288 with 1 Axes>"
            ]
          },
          "metadata": {
            "tags": [],
            "needs_background": "light"
          }
        }
      ]
    },
    {
      "cell_type": "code",
      "metadata": {
        "id": "18mZu0Qpmj5X",
        "outputId": "31a6885c-72bc-4642-d539-75951bfd90c6"
      },
      "source": [
        "confusion_matrix(Y_train,tree_predict)"
      ],
      "execution_count": null,
      "outputs": [
        {
          "output_type": "execute_result",
          "data": {
            "text/plain": [
              "array([[3898,  313],\n",
              "       [ 259, 2530]], dtype=int64)"
            ]
          },
          "metadata": {
            "tags": []
          },
          "execution_count": 12
        }
      ]
    },
    {
      "cell_type": "code",
      "metadata": {
        "id": "DLM2-uhumj5Y",
        "outputId": "9793a209-5e83-4a63-c9c9-cc9d7554eb7e"
      },
      "source": [
        "cm=confusion_matrix(Y_train,tree_predict)\n",
        "sns.heatmap(cm,annot=True,cmap=\"Oranges\",fmt=\".0f\")"
      ],
      "execution_count": null,
      "outputs": [
        {
          "output_type": "execute_result",
          "data": {
            "text/plain": [
              "<matplotlib.axes._subplots.AxesSubplot at 0x2816cd57438>"
            ]
          },
          "metadata": {
            "tags": []
          },
          "execution_count": 13
        },
        {
          "output_type": "display_data",
          "data": {
            "image/png": "[encoded data removed]",
            "text/plain": [
              "<Figure size 432x288 with 2 Axes>"
            ]
          },
          "metadata": {
            "tags": [],
            "needs_background": "light"
          }
        }
      ]
    },
    {
      "cell_type": "code",
      "metadata": {
        "id": "fdZPTWKXmj5Y",
        "outputId": "e303a704-7dc8-4c99-8539-935eb530afe3"
      },
      "source": [
        "from sklearn.metrics import classification_report\n",
        "Report=classification_report(Y_train,tree_predict)\n",
        "print((Report))  "
      ],
      "execution_count": null,
      "outputs": [
        {
          "output_type": "stream",
          "text": [
            "              precision    recall  f1-score   support\n",
            "\n",
            "           0       0.94      0.93      0.93      4211\n",
            "           1       0.89      0.91      0.90      2789\n",
            "\n",
            "    accuracy                           0.92      7000\n",
            "   macro avg       0.91      0.92      0.92      7000\n",
            "weighted avg       0.92      0.92      0.92      7000\n",
            "\n"
          ],
          "name": "stdout"
        }
      ]
    },
    {
      "cell_type": "code",
      "metadata": {
        "id": "gDYL2s6bmj5Z",
        "outputId": "5950b6b0-e8f2-486d-83de-5059de3fb75b"
      },
      "source": [
        "importances=clf_tree.feature_importances_\n",
        "importances\n",
        "importances=pd.DataFrame(importances)\n",
        "Importance=importances.transpose()\n",
        "Importance.columns=[\"Age\",\"HomeOwner\",\"Female\",\"Married\",\"HouseholdSize\",\n",
        "                    \"Income\",\"Education\",\"Church\"]\n",
        "Importance"
      ],
      "execution_count": null,
      "outputs": [
        {
          "output_type": "execute_result",
          "data": {
            "text/html": [
              "<div>\n",
              "<style scoped>\n",
              "    .dataframe tbody tr th:only-of-type {\n",
              "        vertical-align: middle;\n",
              "    }\n",
              "\n",
              "    .dataframe tbody tr th {\n",
              "        vertical-align: top;\n",
              "    }\n",
              "\n",
              "    .dataframe thead th {\n",
              "        text-align: right;\n",
              "    }\n",
              "</style>\n",
              "<table border=\"1\" class=\"dataframe\">\n",
              "  <thead>\n",
              "    <tr style=\"text-align: right;\">\n",
              "      <th></th>\n",
              "      <th>Age</th>\n",
              "      <th>HomeOwner</th>\n",
              "      <th>Female</th>\n",
              "      <th>Married</th>\n",
              "      <th>HouseholdSize</th>\n",
              "      <th>Income</th>\n",
              "      <th>Education</th>\n",
              "      <th>Church</th>\n",
              "    </tr>\n",
              "  </thead>\n",
              "  <tbody>\n",
              "    <tr>\n",
              "      <th>0</th>\n",
              "      <td>0.000101</td>\n",
              "      <td>0.0</td>\n",
              "      <td>0.12428</td>\n",
              "      <td>0.0</td>\n",
              "      <td>0.0</td>\n",
              "      <td>0.000844</td>\n",
              "      <td>0.670336</td>\n",
              "      <td>0.204439</td>\n",
              "    </tr>\n",
              "  </tbody>\n",
              "</table>\n",
              "</div>"
            ],
            "text/plain": [
              "        Age  HomeOwner   Female  Married  HouseholdSize    Income  Education  \\\n",
              "0  0.000101        0.0  0.12428      0.0            0.0  0.000844   0.670336   \n",
              "\n",
              "     Church  \n",
              "0  0.204439  "
            ]
          },
          "metadata": {
            "tags": []
          },
          "execution_count": 15
        }
      ]
    },
    {
      "cell_type": "code",
      "metadata": {
        "id": "Wm8KYxU7mj5Z",
        "outputId": "417fae72-dc94-4ce7-f287-cb13740df19e"
      },
      "source": [
        "from sklearn.model_selection import GridSearchCV\n",
        "tuned_parameters=[{\"criterion\":[\"gini\",\"entropy\"],\n",
        "                  \"max_depth\":range(2,10)}]\n",
        "clf_tree=DecisionTreeClassifier()\n",
        "clf=GridSearchCV(clf_tree,\n",
        "                tuned_parameters,\n",
        "                cv=10,\n",
        "                scoring=\"roc_auc\")\n",
        "clf.fit(X,Y)"
      ],
      "execution_count": null,
      "outputs": [
        {
          "output_type": "execute_result",
          "data": {
            "text/plain": [
              "GridSearchCV(cv=10, error_score='raise-deprecating',\n",
              "             estimator=DecisionTreeClassifier(class_weight=None,\n",
              "                                              criterion='gini', max_depth=None,\n",
              "                                              max_features=None,\n",
              "                                              max_leaf_nodes=None,\n",
              "                                              min_impurity_decrease=0.0,\n",
              "                                              min_impurity_split=None,\n",
              "                                              min_samples_leaf=1,\n",
              "                                              min_samples_split=2,\n",
              "                                              min_weight_fraction_leaf=0.0,\n",
              "                                              presort=False, random_state=None,\n",
              "                                              splitter='best'),\n",
              "             iid='warn', n_jobs=None,\n",
              "             param_grid=[{'criterion': ['gini', 'entropy'],\n",
              "                          'max_depth': range(2, 10)}],\n",
              "             pre_dispatch='2*n_jobs', refit=True, return_train_score=False,\n",
              "             scoring='roc_auc', verbose=0)"
            ]
          },
          "metadata": {
            "tags": []
          },
          "execution_count": 16
        }
      ]
    },
    {
      "cell_type": "code",
      "metadata": {
        "id": "TEGoVEPXmj5a",
        "outputId": "a81f5ecc-0886-433b-a929-f9f74b1d3e87"
      },
      "source": [
        "clf.best_score_"
      ],
      "execution_count": null,
      "outputs": [
        {
          "output_type": "execute_result",
          "data": {
            "text/plain": [
              "0.9797917532917727"
            ]
          },
          "metadata": {
            "tags": []
          },
          "execution_count": 17
        }
      ]
    },
    {
      "cell_type": "code",
      "metadata": {
        "id": "cxel5U3emj5a",
        "outputId": "2f7850c7-bf2f-490e-dab2-170a4eb2ee4c"
      },
      "source": [
        "clf.best_params_"
      ],
      "execution_count": null,
      "outputs": [
        {
          "output_type": "execute_result",
          "data": {
            "text/plain": [
              "{'criterion': 'gini', 'max_depth': 4}"
            ]
          },
          "metadata": {
            "tags": []
          },
          "execution_count": 18
        }
      ]
    },
    {
      "cell_type": "code",
      "metadata": {
        "id": "-S_SRfVemj5a"
      },
      "source": [
        "prediction=tree_predict\n",
        "Prediction=pd.DataFrame(prediction)\n",
        "Prediction\n",
        "Prediction=Prediction.iloc[:,1:9]"
      ],
      "execution_count": null,
      "outputs": []
    },
    {
      "cell_type": "code",
      "metadata": {
        "id": "zEgcbXcNmj5b"
      },
      "source": [
        "pred_prob=pd.DataFrame(pred_prob)\n",
        "pred_prob\n",
        "pred_class=(pred_prob[1]>=0.5).astype(np.int)    "
      ],
      "execution_count": null,
      "outputs": []
    },
    {
      "cell_type": "code",
      "metadata": {
        "id": "qbYoyxN8mj5b",
        "outputId": "00ba3cbe-3354-4e5f-bb03-7093c2d68a9a"
      },
      "source": [
        "from sklearn.metrics import(roc_auc_score,roc_curve)\n",
        "Y_train.head()\n",
        "pred_class\n",
        "dt_auc=roc_auc_score(Y_train.astype(int),pred_class)\n",
        "fpr,tpr,thresholds=roc_curve(Y_train.astype(int),pred_prob[1])\n",
        "plt.figure()\n",
        "plt.plot(fpr,tpr, label=\"Decision Tree(area=%0.3f)\" % dt_auc,lw=4,color=\"red\")\n",
        "plt.plot([0,1],[0,1],\"r--\")\n",
        "plt.xlim([0,1])\n",
        "plt.ylim([0,1.05])\n",
        "plt.xlabel(\"False Positive\")\n",
        "plt.ylabel(\"True Positive\")\n",
        "plt.title(\"Receiver Operative Characteristics Curve\")\n",
        "plt.legend(loc=\"lower right\")\n",
        "plt.show()"
      ],
      "execution_count": null,
      "outputs": [
        {
          "output_type": "display_data",
          "data": {
            "image/png": "[encoded data removed]",
            "text/plain": [
              "<Figure size 432x288 with 1 Axes>"
            ]
          },
          "metadata": {
            "tags": [],
            "needs_background": "light"
          }
        }
      ]
    },
    {
      "cell_type": "code",
      "metadata": {
        "id": "aH-1PHLomj5b"
      },
      "source": [
        "from sklearn.tree import DecisionTreeClassifier\n",
        "clf_tree=DecisionTreeClassifier()\n",
        "clf_tree=DecisionTreeClassifier(criterion=\"gini\",max_depth=3)\n",
        "clf_tree.fit(X_train,Y_train)\n",
        "tree_predict=clf_tree.predict(X_test)\n",
        "round(accuracy_score(Y_test,tree_predict),3)\n",
        "pred_prob=clf_tree.predict_proba(X_test)\n"
      ],
      "execution_count": null,
      "outputs": []
    },
    {
      "cell_type": "code",
      "metadata": {
        "id": "8DrLaCs7mj5c",
        "outputId": "7b47b563-fa70-46d2-9bee-ffd9570502c9"
      },
      "source": [
        "from sklearn import tree\n",
        "tree.plot_tree(clf_tree,max_depth=3,filled=True)"
      ],
      "execution_count": null,
      "outputs": [
        {
          "output_type": "execute_result",
          "data": {
            "text/plain": [
              "[Text(167.4, 190.26, 'X[6] <= 12.5\\nentropy = 0.479\\nsamples = 7000\\nvalue = [4211, 2789]'),\n",
              " Text(83.7, 135.9, 'X[5] <= 217.5\\nentropy = 0.042\\nsamples = 2092\\nvalue = [2047, 45]'),\n",
              " Text(41.85, 81.53999999999999, 'X[0] <= 36.5\\nentropy = 0.039\\nsamples = 2004\\nvalue = [1964, 40]'),\n",
              " Text(20.925, 27.180000000000007, 'entropy = 0.014\\nsamples = 549\\nvalue = [545, 4]'),\n",
              " Text(62.775000000000006, 27.180000000000007, 'entropy = 0.048\\nsamples = 1455\\nvalue = [1419, 36]'),\n",
              " Text(125.55000000000001, 81.53999999999999, 'X[5] <= 219.0\\nentropy = 0.107\\nsamples = 88\\nvalue = [83, 5]'),\n",
              " Text(104.625, 27.180000000000007, 'entropy = 0.0\\nsamples = 1\\nvalue = [0, 1]'),\n",
              " Text(146.475, 27.180000000000007, 'entropy = 0.088\\nsamples = 87\\nvalue = [83, 4]'),\n",
              " Text(251.10000000000002, 135.9, 'X[7] <= 0.5\\nentropy = 0.493\\nsamples = 4908\\nvalue = [2164, 2744]'),\n",
              " Text(209.25, 81.53999999999999, 'X[2] <= 0.5\\nentropy = 0.336\\nsamples = 2420\\nvalue = [518, 1902]'),\n",
              " Text(188.32500000000002, 27.180000000000007, 'entropy = 0.435\\nsamples = 535\\nvalue = [364, 171]'),\n",
              " Text(230.175, 27.180000000000007, 'entropy = 0.15\\nsamples = 1885\\nvalue = [154, 1731]'),\n",
              " Text(292.95, 81.53999999999999, 'X[6] <= 16.5\\nentropy = 0.448\\nsamples = 2488\\nvalue = [1646, 842]'),\n",
              " Text(272.02500000000003, 27.180000000000007, 'entropy = 0.277\\nsamples = 957\\nvalue = [159, 798]'),\n",
              " Text(313.875, 27.180000000000007, 'entropy = 0.056\\nsamples = 1531\\nvalue = [1487, 44]')]"
            ]
          },
          "metadata": {
            "tags": []
          },
          "execution_count": 23
        },
        {
          "output_type": "display_data",
          "data": {
            "image/png": "[encoded data removed]",
            "text/plain": [
              "<Figure size 432x288 with 1 Axes>"
            ]
          },
          "metadata": {
            "tags": [],
            "needs_background": "light"
          }
        }
      ]
    },
    {
      "cell_type": "code",
      "metadata": {
        "id": "twU-GgPcmj5c",
        "outputId": "ee8d8107-cb38-492d-c93a-d0732abd777e"
      },
      "source": [
        "cm=confusion_matrix(Y_test,tree_predict)\n",
        "sns.heatmap(cm,annot=True,cmap=\"Oranges\",fmt=\".0f\")"
      ],
      "execution_count": null,
      "outputs": [
        {
          "output_type": "execute_result",
          "data": {
            "text/plain": [
              "<matplotlib.axes._subplots.AxesSubplot at 0x2816cfc7c88>"
            ]
          },
          "metadata": {
            "tags": []
          },
          "execution_count": 24
        },
        {
          "output_type": "display_data",
          "data": {
            "image/png": "[encoded data removed]",
            "text/plain": [
              "<Figure size 432x288 with 2 Axes>"
            ]
          },
          "metadata": {
            "tags": [],
            "needs_background": "light"
          }
        }
      ]
    },
    {
      "cell_type": "code",
      "metadata": {
        "id": "jAgInbGSmj5c",
        "outputId": "00698cdd-7ef2-48d5-e087-8bac7e6e246f"
      },
      "source": [
        "from sklearn.metrics import classification_report\n",
        "Report=classification_report(Y_test,tree_predict)\n",
        "print((Report))  "
      ],
      "execution_count": null,
      "outputs": [
        {
          "output_type": "stream",
          "text": [
            "              precision    recall  f1-score   support\n",
            "\n",
            "           0       0.94      0.93      0.93      1775\n",
            "           1       0.90      0.91      0.91      1225\n",
            "\n",
            "    accuracy                           0.92      3000\n",
            "   macro avg       0.92      0.92      0.92      3000\n",
            "weighted avg       0.92      0.92      0.92      3000\n",
            "\n"
          ],
          "name": "stdout"
        }
      ]
    },
    {
      "cell_type": "code",
      "metadata": {
        "id": "MPtfoNFVmj5d",
        "outputId": "b8eb6656-048d-483c-f370-f87435b55ac9"
      },
      "source": [
        "importances=clf_tree.feature_importances_\n",
        "importances\n",
        "importances=pd.DataFrame(importances)\n",
        "Importance=importances.transpose()\n",
        "Importance.columns=[\"Age\",\"HomeOwner\",\"Female\",\"Married\",\"HouseholdSize\",\n",
        "                    \"Income\",\"Education\",\"Church\"]\n",
        "Importance"
      ],
      "execution_count": null,
      "outputs": [
        {
          "output_type": "execute_result",
          "data": {
            "text/html": [
              "<div>\n",
              "<style scoped>\n",
              "    .dataframe tbody tr th:only-of-type {\n",
              "        vertical-align: middle;\n",
              "    }\n",
              "\n",
              "    .dataframe tbody tr th {\n",
              "        vertical-align: top;\n",
              "    }\n",
              "\n",
              "    .dataframe thead th {\n",
              "        text-align: right;\n",
              "    }\n",
              "</style>\n",
              "<table border=\"1\" class=\"dataframe\">\n",
              "  <thead>\n",
              "    <tr style=\"text-align: right;\">\n",
              "      <th></th>\n",
              "      <th>Age</th>\n",
              "      <th>HomeOwner</th>\n",
              "      <th>Female</th>\n",
              "      <th>Married</th>\n",
              "      <th>HouseholdSize</th>\n",
              "      <th>Income</th>\n",
              "      <th>Education</th>\n",
              "      <th>Church</th>\n",
              "    </tr>\n",
              "  </thead>\n",
              "  <tbody>\n",
              "    <tr>\n",
              "      <th>0</th>\n",
              "      <td>0.000101</td>\n",
              "      <td>0.0</td>\n",
              "      <td>0.12428</td>\n",
              "      <td>0.0</td>\n",
              "      <td>0.0</td>\n",
              "      <td>0.000844</td>\n",
              "      <td>0.670336</td>\n",
              "      <td>0.204439</td>\n",
              "    </tr>\n",
              "  </tbody>\n",
              "</table>\n",
              "</div>"
            ],
            "text/plain": [
              "        Age  HomeOwner   Female  Married  HouseholdSize    Income  Education  \\\n",
              "0  0.000101        0.0  0.12428      0.0            0.0  0.000844   0.670336   \n",
              "\n",
              "     Church  \n",
              "0  0.204439  "
            ]
          },
          "metadata": {
            "tags": []
          },
          "execution_count": 26
        }
      ]
    },
    {
      "cell_type": "code",
      "metadata": {
        "id": "sVcMC-uvmj5d"
      },
      "source": [
        ""
      ],
      "execution_count": null,
      "outputs": []
    }
  ]
}