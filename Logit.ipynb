{
  "nbformat": 4,
  "nbformat_minor": 0,
  "metadata": {
    "kernelspec": {
      "display_name": "Python 3",
      "language": "python",
      "name": "python3"
    },
    "language_info": {
      "codemirror_mode": {
        "name": "ipython",
        "version": 3
      },
      "file_extension": ".py",
      "mimetype": "text/x-python",
      "name": "python",
      "nbconvert_exporter": "python",
      "pygments_lexer": "ipython3",
      "version": "3.7.3"
    },
    "colab": {
      "name": "Logit-BlueOrRed.ipynb",
      "provenance": [],
      "include_colab_link": true
    }
  },
  "cells": [
    {
      "cell_type": "markdown",
      "metadata": {
        "id": "view-in-github",
        "colab_type": "text"
      },
      "source": [
        "<a href=\"https://colab.research.google.com/github/souradipta93/Predictive_Analytics/blob/main/Logit.ipynb\" target=\"_parent\"><img src=\"https://colab.research.google.com/assets/colab-badge.svg\" alt=\"Open In Colab\"/></a>"
      ]
    },
    {
      "cell_type": "code",
      "metadata": {
        "id": "ZlJrhgpfn4KK"
      },
      "source": [
        "#Logistic Regression-BlueOrRed"
      ],
      "execution_count": null,
      "outputs": []
    },
    {
      "cell_type": "code",
      "metadata": {
        "id": "7POuuGIan4KM"
      },
      "source": [
        "# Import the required libraries\n",
        "import pandas as pd\n",
        "import numpy as np\n",
        "import matplotlib.pyplot as plt\n",
        "import seaborn as sns"
      ],
      "execution_count": null,
      "outputs": []
    },
    {
      "cell_type": "code",
      "metadata": {
        "id": "9QLhCauVn4KM"
      },
      "source": [
        "## Suppress warning messages\n",
        "import warnings\n",
        "warnings.filterwarnings(\"ignore\")"
      ],
      "execution_count": null,
      "outputs": []
    },
    {
      "cell_type": "code",
      "metadata": {
        "id": "8rOW-ihVn4KN",
        "outputId": "ed45078f-04c3-4638-cffb-3f0467e147d3"
      },
      "source": [
        "mydata=pd.read_csv(\"BlueOrRed.csv\")\n",
        "mydata.info()"
      ],
      "execution_count": null,
      "outputs": [
        {
          "output_type": "stream",
          "text": [
            "<class 'pandas.core.frame.DataFrame'>\n",
            "RangeIndex: 10000 entries, 0 to 9999\n",
            "Data columns (total 9 columns):\n",
            "Undecided        10000 non-null int64\n",
            "Age              10000 non-null int64\n",
            "HomeOwner        10000 non-null int64\n",
            "Female           10000 non-null int64\n",
            "Married          10000 non-null int64\n",
            "HouseholdSize    10000 non-null int64\n",
            "Income           10000 non-null float64\n",
            "Education        10000 non-null int64\n",
            "Church           10000 non-null int64\n",
            "dtypes: float64(1), int64(8)\n",
            "memory usage: 703.2 KB\n"
          ],
          "name": "stdout"
        }
      ]
    },
    {
      "cell_type": "code",
      "metadata": {
        "id": "TXSFe4b8n4KO",
        "outputId": "ffc04830-cb07-453f-f2ad-6422ca0883e4"
      },
      "source": [
        "# Calculate baseline proportion of Y variable\n",
        "mydata['Undecided'].value_counts()"
      ],
      "execution_count": null,
      "outputs": [
        {
          "output_type": "execute_result",
          "data": {
            "text/plain": [
              "0    5986\n",
              "1    4014\n",
              "Name: Undecided, dtype: int64"
            ]
          },
          "metadata": {
            "tags": []
          },
          "execution_count": 5
        }
      ]
    },
    {
      "cell_type": "code",
      "metadata": {
        "id": "NKq_sC4_n4KP",
        "outputId": "407f0eca-3e02-4f26-d72f-9dcb44d83d32"
      },
      "source": [
        "Y=mydata.loc[:,\"Undecided\"]\n",
        "X=mydata.iloc[:,1:9]\n",
        "X\n",
        " "
      ],
      "execution_count": null,
      "outputs": [
        {
          "output_type": "execute_result",
          "data": {
            "text/html": [
              "<div>\n",
              "<style scoped>\n",
              "    .dataframe tbody tr th:only-of-type {\n",
              "        vertical-align: middle;\n",
              "    }\n",
              "\n",
              "    .dataframe tbody tr th {\n",
              "        vertical-align: top;\n",
              "    }\n",
              "\n",
              "    .dataframe thead th {\n",
              "        text-align: right;\n",
              "    }\n",
              "</style>\n",
              "<table border=\"1\" class=\"dataframe\">\n",
              "  <thead>\n",
              "    <tr style=\"text-align: right;\">\n",
              "      <th></th>\n",
              "      <th>Age</th>\n",
              "      <th>HomeOwner</th>\n",
              "      <th>Female</th>\n",
              "      <th>Married</th>\n",
              "      <th>HouseholdSize</th>\n",
              "      <th>Income</th>\n",
              "      <th>Education</th>\n",
              "      <th>Church</th>\n",
              "    </tr>\n",
              "  </thead>\n",
              "  <tbody>\n",
              "    <tr>\n",
              "      <th>0</th>\n",
              "      <td>51</td>\n",
              "      <td>1</td>\n",
              "      <td>1</td>\n",
              "      <td>1</td>\n",
              "      <td>4</td>\n",
              "      <td>171.0</td>\n",
              "      <td>15</td>\n",
              "      <td>0</td>\n",
              "    </tr>\n",
              "    <tr>\n",
              "      <th>1</th>\n",
              "      <td>37</td>\n",
              "      <td>1</td>\n",
              "      <td>1</td>\n",
              "      <td>1</td>\n",
              "      <td>3</td>\n",
              "      <td>96.0</td>\n",
              "      <td>18</td>\n",
              "      <td>0</td>\n",
              "    </tr>\n",
              "    <tr>\n",
              "      <th>2</th>\n",
              "      <td>53</td>\n",
              "      <td>1</td>\n",
              "      <td>1</td>\n",
              "      <td>1</td>\n",
              "      <td>6</td>\n",
              "      <td>86.0</td>\n",
              "      <td>20</td>\n",
              "      <td>0</td>\n",
              "    </tr>\n",
              "    <tr>\n",
              "      <th>3</th>\n",
              "      <td>33</td>\n",
              "      <td>1</td>\n",
              "      <td>1</td>\n",
              "      <td>1</td>\n",
              "      <td>2</td>\n",
              "      <td>176.0</td>\n",
              "      <td>18</td>\n",
              "      <td>1</td>\n",
              "    </tr>\n",
              "    <tr>\n",
              "      <th>4</th>\n",
              "      <td>46</td>\n",
              "      <td>1</td>\n",
              "      <td>1</td>\n",
              "      <td>1</td>\n",
              "      <td>6</td>\n",
              "      <td>420.0</td>\n",
              "      <td>15</td>\n",
              "      <td>1</td>\n",
              "    </tr>\n",
              "    <tr>\n",
              "      <th>5</th>\n",
              "      <td>34</td>\n",
              "      <td>1</td>\n",
              "      <td>1</td>\n",
              "      <td>1</td>\n",
              "      <td>6</td>\n",
              "      <td>109.0</td>\n",
              "      <td>15</td>\n",
              "      <td>0</td>\n",
              "    </tr>\n",
              "    <tr>\n",
              "      <th>6</th>\n",
              "      <td>61</td>\n",
              "      <td>1</td>\n",
              "      <td>0</td>\n",
              "      <td>1</td>\n",
              "      <td>3</td>\n",
              "      <td>39.0</td>\n",
              "      <td>20</td>\n",
              "      <td>1</td>\n",
              "    </tr>\n",
              "    <tr>\n",
              "      <th>7</th>\n",
              "      <td>55</td>\n",
              "      <td>1</td>\n",
              "      <td>0</td>\n",
              "      <td>1</td>\n",
              "      <td>6</td>\n",
              "      <td>132.0</td>\n",
              "      <td>16</td>\n",
              "      <td>0</td>\n",
              "    </tr>\n",
              "    <tr>\n",
              "      <th>8</th>\n",
              "      <td>35</td>\n",
              "      <td>1</td>\n",
              "      <td>1</td>\n",
              "      <td>1</td>\n",
              "      <td>5</td>\n",
              "      <td>92.0</td>\n",
              "      <td>18</td>\n",
              "      <td>1</td>\n",
              "    </tr>\n",
              "    <tr>\n",
              "      <th>9</th>\n",
              "      <td>49</td>\n",
              "      <td>1</td>\n",
              "      <td>1</td>\n",
              "      <td>1</td>\n",
              "      <td>3</td>\n",
              "      <td>27.0</td>\n",
              "      <td>16</td>\n",
              "      <td>0</td>\n",
              "    </tr>\n",
              "    <tr>\n",
              "      <th>10</th>\n",
              "      <td>50</td>\n",
              "      <td>1</td>\n",
              "      <td>0</td>\n",
              "      <td>1</td>\n",
              "      <td>4</td>\n",
              "      <td>18.0</td>\n",
              "      <td>8</td>\n",
              "      <td>0</td>\n",
              "    </tr>\n",
              "    <tr>\n",
              "      <th>11</th>\n",
              "      <td>49</td>\n",
              "      <td>1</td>\n",
              "      <td>1</td>\n",
              "      <td>1</td>\n",
              "      <td>2</td>\n",
              "      <td>66.0</td>\n",
              "      <td>15</td>\n",
              "      <td>1</td>\n",
              "    </tr>\n",
              "    <tr>\n",
              "      <th>12</th>\n",
              "      <td>48</td>\n",
              "      <td>1</td>\n",
              "      <td>1</td>\n",
              "      <td>1</td>\n",
              "      <td>6</td>\n",
              "      <td>50.0</td>\n",
              "      <td>12</td>\n",
              "      <td>1</td>\n",
              "    </tr>\n",
              "    <tr>\n",
              "      <th>13</th>\n",
              "      <td>37</td>\n",
              "      <td>1</td>\n",
              "      <td>0</td>\n",
              "      <td>1</td>\n",
              "      <td>7</td>\n",
              "      <td>139.0</td>\n",
              "      <td>15</td>\n",
              "      <td>1</td>\n",
              "    </tr>\n",
              "    <tr>\n",
              "      <th>14</th>\n",
              "      <td>56</td>\n",
              "      <td>1</td>\n",
              "      <td>1</td>\n",
              "      <td>1</td>\n",
              "      <td>5</td>\n",
              "      <td>127.0</td>\n",
              "      <td>13</td>\n",
              "      <td>1</td>\n",
              "    </tr>\n",
              "    <tr>\n",
              "      <th>15</th>\n",
              "      <td>30</td>\n",
              "      <td>1</td>\n",
              "      <td>1</td>\n",
              "      <td>1</td>\n",
              "      <td>7</td>\n",
              "      <td>79.0</td>\n",
              "      <td>15</td>\n",
              "      <td>1</td>\n",
              "    </tr>\n",
              "    <tr>\n",
              "      <th>16</th>\n",
              "      <td>63</td>\n",
              "      <td>1</td>\n",
              "      <td>0</td>\n",
              "      <td>1</td>\n",
              "      <td>3</td>\n",
              "      <td>85.0</td>\n",
              "      <td>20</td>\n",
              "      <td>0</td>\n",
              "    </tr>\n",
              "    <tr>\n",
              "      <th>17</th>\n",
              "      <td>54</td>\n",
              "      <td>0</td>\n",
              "      <td>1</td>\n",
              "      <td>1</td>\n",
              "      <td>5</td>\n",
              "      <td>122.0</td>\n",
              "      <td>12</td>\n",
              "      <td>0</td>\n",
              "    </tr>\n",
              "    <tr>\n",
              "      <th>18</th>\n",
              "      <td>51</td>\n",
              "      <td>1</td>\n",
              "      <td>1</td>\n",
              "      <td>0</td>\n",
              "      <td>1</td>\n",
              "      <td>30.0</td>\n",
              "      <td>20</td>\n",
              "      <td>1</td>\n",
              "    </tr>\n",
              "    <tr>\n",
              "      <th>19</th>\n",
              "      <td>45</td>\n",
              "      <td>1</td>\n",
              "      <td>1</td>\n",
              "      <td>1</td>\n",
              "      <td>5</td>\n",
              "      <td>83.0</td>\n",
              "      <td>18</td>\n",
              "      <td>1</td>\n",
              "    </tr>\n",
              "    <tr>\n",
              "      <th>20</th>\n",
              "      <td>34</td>\n",
              "      <td>1</td>\n",
              "      <td>0</td>\n",
              "      <td>1</td>\n",
              "      <td>3</td>\n",
              "      <td>289.0</td>\n",
              "      <td>15</td>\n",
              "      <td>0</td>\n",
              "    </tr>\n",
              "    <tr>\n",
              "      <th>21</th>\n",
              "      <td>41</td>\n",
              "      <td>1</td>\n",
              "      <td>0</td>\n",
              "      <td>0</td>\n",
              "      <td>4</td>\n",
              "      <td>74.0</td>\n",
              "      <td>15</td>\n",
              "      <td>0</td>\n",
              "    </tr>\n",
              "    <tr>\n",
              "      <th>22</th>\n",
              "      <td>49</td>\n",
              "      <td>1</td>\n",
              "      <td>1</td>\n",
              "      <td>1</td>\n",
              "      <td>3</td>\n",
              "      <td>222.0</td>\n",
              "      <td>20</td>\n",
              "      <td>1</td>\n",
              "    </tr>\n",
              "    <tr>\n",
              "      <th>23</th>\n",
              "      <td>56</td>\n",
              "      <td>1</td>\n",
              "      <td>0</td>\n",
              "      <td>1</td>\n",
              "      <td>3</td>\n",
              "      <td>73.0</td>\n",
              "      <td>16</td>\n",
              "      <td>0</td>\n",
              "    </tr>\n",
              "    <tr>\n",
              "      <th>24</th>\n",
              "      <td>41</td>\n",
              "      <td>1</td>\n",
              "      <td>1</td>\n",
              "      <td>1</td>\n",
              "      <td>5</td>\n",
              "      <td>161.0</td>\n",
              "      <td>9</td>\n",
              "      <td>1</td>\n",
              "    </tr>\n",
              "    <tr>\n",
              "      <th>25</th>\n",
              "      <td>59</td>\n",
              "      <td>1</td>\n",
              "      <td>1</td>\n",
              "      <td>1</td>\n",
              "      <td>4</td>\n",
              "      <td>71.0</td>\n",
              "      <td>20</td>\n",
              "      <td>1</td>\n",
              "    </tr>\n",
              "    <tr>\n",
              "      <th>26</th>\n",
              "      <td>61</td>\n",
              "      <td>1</td>\n",
              "      <td>0</td>\n",
              "      <td>0</td>\n",
              "      <td>2</td>\n",
              "      <td>122.0</td>\n",
              "      <td>20</td>\n",
              "      <td>0</td>\n",
              "    </tr>\n",
              "    <tr>\n",
              "      <th>27</th>\n",
              "      <td>38</td>\n",
              "      <td>0</td>\n",
              "      <td>1</td>\n",
              "      <td>1</td>\n",
              "      <td>3</td>\n",
              "      <td>242.0</td>\n",
              "      <td>18</td>\n",
              "      <td>1</td>\n",
              "    </tr>\n",
              "    <tr>\n",
              "      <th>28</th>\n",
              "      <td>52</td>\n",
              "      <td>1</td>\n",
              "      <td>0</td>\n",
              "      <td>1</td>\n",
              "      <td>3</td>\n",
              "      <td>276.0</td>\n",
              "      <td>15</td>\n",
              "      <td>0</td>\n",
              "    </tr>\n",
              "    <tr>\n",
              "      <th>29</th>\n",
              "      <td>49</td>\n",
              "      <td>1</td>\n",
              "      <td>1</td>\n",
              "      <td>1</td>\n",
              "      <td>4</td>\n",
              "      <td>104.0</td>\n",
              "      <td>18</td>\n",
              "      <td>0</td>\n",
              "    </tr>\n",
              "    <tr>\n",
              "      <th>...</th>\n",
              "      <td>...</td>\n",
              "      <td>...</td>\n",
              "      <td>...</td>\n",
              "      <td>...</td>\n",
              "      <td>...</td>\n",
              "      <td>...</td>\n",
              "      <td>...</td>\n",
              "      <td>...</td>\n",
              "    </tr>\n",
              "    <tr>\n",
              "      <th>9970</th>\n",
              "      <td>51</td>\n",
              "      <td>1</td>\n",
              "      <td>1</td>\n",
              "      <td>0</td>\n",
              "      <td>1</td>\n",
              "      <td>110.0</td>\n",
              "      <td>20</td>\n",
              "      <td>1</td>\n",
              "    </tr>\n",
              "    <tr>\n",
              "      <th>9971</th>\n",
              "      <td>62</td>\n",
              "      <td>1</td>\n",
              "      <td>1</td>\n",
              "      <td>1</td>\n",
              "      <td>2</td>\n",
              "      <td>132.0</td>\n",
              "      <td>20</td>\n",
              "      <td>0</td>\n",
              "    </tr>\n",
              "    <tr>\n",
              "      <th>9972</th>\n",
              "      <td>60</td>\n",
              "      <td>0</td>\n",
              "      <td>1</td>\n",
              "      <td>0</td>\n",
              "      <td>2</td>\n",
              "      <td>6.0</td>\n",
              "      <td>8</td>\n",
              "      <td>0</td>\n",
              "    </tr>\n",
              "    <tr>\n",
              "      <th>9973</th>\n",
              "      <td>44</td>\n",
              "      <td>1</td>\n",
              "      <td>1</td>\n",
              "      <td>1</td>\n",
              "      <td>3</td>\n",
              "      <td>10.0</td>\n",
              "      <td>18</td>\n",
              "      <td>0</td>\n",
              "    </tr>\n",
              "    <tr>\n",
              "      <th>9974</th>\n",
              "      <td>34</td>\n",
              "      <td>0</td>\n",
              "      <td>1</td>\n",
              "      <td>0</td>\n",
              "      <td>6</td>\n",
              "      <td>90.0</td>\n",
              "      <td>8</td>\n",
              "      <td>1</td>\n",
              "    </tr>\n",
              "    <tr>\n",
              "      <th>9975</th>\n",
              "      <td>22</td>\n",
              "      <td>1</td>\n",
              "      <td>1</td>\n",
              "      <td>0</td>\n",
              "      <td>2</td>\n",
              "      <td>8.0</td>\n",
              "      <td>18</td>\n",
              "      <td>1</td>\n",
              "    </tr>\n",
              "    <tr>\n",
              "      <th>9976</th>\n",
              "      <td>54</td>\n",
              "      <td>1</td>\n",
              "      <td>0</td>\n",
              "      <td>1</td>\n",
              "      <td>2</td>\n",
              "      <td>240.0</td>\n",
              "      <td>8</td>\n",
              "      <td>0</td>\n",
              "    </tr>\n",
              "    <tr>\n",
              "      <th>9977</th>\n",
              "      <td>32</td>\n",
              "      <td>1</td>\n",
              "      <td>1</td>\n",
              "      <td>1</td>\n",
              "      <td>5</td>\n",
              "      <td>64.0</td>\n",
              "      <td>8</td>\n",
              "      <td>0</td>\n",
              "    </tr>\n",
              "    <tr>\n",
              "      <th>9978</th>\n",
              "      <td>40</td>\n",
              "      <td>1</td>\n",
              "      <td>1</td>\n",
              "      <td>1</td>\n",
              "      <td>4</td>\n",
              "      <td>6.0</td>\n",
              "      <td>8</td>\n",
              "      <td>1</td>\n",
              "    </tr>\n",
              "    <tr>\n",
              "      <th>9979</th>\n",
              "      <td>42</td>\n",
              "      <td>1</td>\n",
              "      <td>1</td>\n",
              "      <td>1</td>\n",
              "      <td>7</td>\n",
              "      <td>54.0</td>\n",
              "      <td>12</td>\n",
              "      <td>1</td>\n",
              "    </tr>\n",
              "    <tr>\n",
              "      <th>9980</th>\n",
              "      <td>39</td>\n",
              "      <td>1</td>\n",
              "      <td>1</td>\n",
              "      <td>1</td>\n",
              "      <td>7</td>\n",
              "      <td>131.0</td>\n",
              "      <td>15</td>\n",
              "      <td>1</td>\n",
              "    </tr>\n",
              "    <tr>\n",
              "      <th>9981</th>\n",
              "      <td>57</td>\n",
              "      <td>1</td>\n",
              "      <td>1</td>\n",
              "      <td>1</td>\n",
              "      <td>4</td>\n",
              "      <td>106.0</td>\n",
              "      <td>20</td>\n",
              "      <td>1</td>\n",
              "    </tr>\n",
              "    <tr>\n",
              "      <th>9982</th>\n",
              "      <td>52</td>\n",
              "      <td>0</td>\n",
              "      <td>0</td>\n",
              "      <td>0</td>\n",
              "      <td>1</td>\n",
              "      <td>39.0</td>\n",
              "      <td>8</td>\n",
              "      <td>0</td>\n",
              "    </tr>\n",
              "    <tr>\n",
              "      <th>9983</th>\n",
              "      <td>44</td>\n",
              "      <td>1</td>\n",
              "      <td>1</td>\n",
              "      <td>1</td>\n",
              "      <td>5</td>\n",
              "      <td>128.0</td>\n",
              "      <td>8</td>\n",
              "      <td>1</td>\n",
              "    </tr>\n",
              "    <tr>\n",
              "      <th>9984</th>\n",
              "      <td>56</td>\n",
              "      <td>1</td>\n",
              "      <td>1</td>\n",
              "      <td>0</td>\n",
              "      <td>1</td>\n",
              "      <td>54.0</td>\n",
              "      <td>9</td>\n",
              "      <td>1</td>\n",
              "    </tr>\n",
              "    <tr>\n",
              "      <th>9985</th>\n",
              "      <td>43</td>\n",
              "      <td>1</td>\n",
              "      <td>1</td>\n",
              "      <td>1</td>\n",
              "      <td>4</td>\n",
              "      <td>31.0</td>\n",
              "      <td>18</td>\n",
              "      <td>0</td>\n",
              "    </tr>\n",
              "    <tr>\n",
              "      <th>9986</th>\n",
              "      <td>40</td>\n",
              "      <td>1</td>\n",
              "      <td>1</td>\n",
              "      <td>0</td>\n",
              "      <td>1</td>\n",
              "      <td>109.0</td>\n",
              "      <td>18</td>\n",
              "      <td>1</td>\n",
              "    </tr>\n",
              "    <tr>\n",
              "      <th>9987</th>\n",
              "      <td>27</td>\n",
              "      <td>1</td>\n",
              "      <td>1</td>\n",
              "      <td>0</td>\n",
              "      <td>1</td>\n",
              "      <td>126.0</td>\n",
              "      <td>18</td>\n",
              "      <td>0</td>\n",
              "    </tr>\n",
              "    <tr>\n",
              "      <th>9988</th>\n",
              "      <td>59</td>\n",
              "      <td>1</td>\n",
              "      <td>0</td>\n",
              "      <td>0</td>\n",
              "      <td>2</td>\n",
              "      <td>20.0</td>\n",
              "      <td>13</td>\n",
              "      <td>1</td>\n",
              "    </tr>\n",
              "    <tr>\n",
              "      <th>9989</th>\n",
              "      <td>31</td>\n",
              "      <td>1</td>\n",
              "      <td>1</td>\n",
              "      <td>1</td>\n",
              "      <td>4</td>\n",
              "      <td>78.0</td>\n",
              "      <td>12</td>\n",
              "      <td>1</td>\n",
              "    </tr>\n",
              "    <tr>\n",
              "      <th>9990</th>\n",
              "      <td>47</td>\n",
              "      <td>1</td>\n",
              "      <td>1</td>\n",
              "      <td>0</td>\n",
              "      <td>3</td>\n",
              "      <td>156.0</td>\n",
              "      <td>18</td>\n",
              "      <td>0</td>\n",
              "    </tr>\n",
              "    <tr>\n",
              "      <th>9991</th>\n",
              "      <td>27</td>\n",
              "      <td>1</td>\n",
              "      <td>1</td>\n",
              "      <td>0</td>\n",
              "      <td>2</td>\n",
              "      <td>32.0</td>\n",
              "      <td>12</td>\n",
              "      <td>0</td>\n",
              "    </tr>\n",
              "    <tr>\n",
              "      <th>9992</th>\n",
              "      <td>39</td>\n",
              "      <td>1</td>\n",
              "      <td>1</td>\n",
              "      <td>0</td>\n",
              "      <td>1</td>\n",
              "      <td>132.0</td>\n",
              "      <td>18</td>\n",
              "      <td>1</td>\n",
              "    </tr>\n",
              "    <tr>\n",
              "      <th>9993</th>\n",
              "      <td>37</td>\n",
              "      <td>1</td>\n",
              "      <td>1</td>\n",
              "      <td>0</td>\n",
              "      <td>2</td>\n",
              "      <td>71.0</td>\n",
              "      <td>18</td>\n",
              "      <td>0</td>\n",
              "    </tr>\n",
              "    <tr>\n",
              "      <th>9994</th>\n",
              "      <td>36</td>\n",
              "      <td>1</td>\n",
              "      <td>1</td>\n",
              "      <td>1</td>\n",
              "      <td>5</td>\n",
              "      <td>77.0</td>\n",
              "      <td>12</td>\n",
              "      <td>0</td>\n",
              "    </tr>\n",
              "    <tr>\n",
              "      <th>9995</th>\n",
              "      <td>27</td>\n",
              "      <td>1</td>\n",
              "      <td>1</td>\n",
              "      <td>0</td>\n",
              "      <td>1</td>\n",
              "      <td>140.5</td>\n",
              "      <td>12</td>\n",
              "      <td>0</td>\n",
              "    </tr>\n",
              "    <tr>\n",
              "      <th>9996</th>\n",
              "      <td>32</td>\n",
              "      <td>1</td>\n",
              "      <td>1</td>\n",
              "      <td>1</td>\n",
              "      <td>2</td>\n",
              "      <td>79.0</td>\n",
              "      <td>11</td>\n",
              "      <td>1</td>\n",
              "    </tr>\n",
              "    <tr>\n",
              "      <th>9997</th>\n",
              "      <td>35</td>\n",
              "      <td>0</td>\n",
              "      <td>1</td>\n",
              "      <td>0</td>\n",
              "      <td>1</td>\n",
              "      <td>15.0</td>\n",
              "      <td>8</td>\n",
              "      <td>1</td>\n",
              "    </tr>\n",
              "    <tr>\n",
              "      <th>9998</th>\n",
              "      <td>26</td>\n",
              "      <td>0</td>\n",
              "      <td>0</td>\n",
              "      <td>0</td>\n",
              "      <td>5</td>\n",
              "      <td>5.0</td>\n",
              "      <td>11</td>\n",
              "      <td>1</td>\n",
              "    </tr>\n",
              "    <tr>\n",
              "      <th>9999</th>\n",
              "      <td>26</td>\n",
              "      <td>0</td>\n",
              "      <td>1</td>\n",
              "      <td>1</td>\n",
              "      <td>2</td>\n",
              "      <td>6.0</td>\n",
              "      <td>8</td>\n",
              "      <td>0</td>\n",
              "    </tr>\n",
              "  </tbody>\n",
              "</table>\n",
              "<p>10000 rows × 8 columns</p>\n",
              "</div>"
            ],
            "text/plain": [
              "      Age  HomeOwner  Female  Married  HouseholdSize  Income  Education  \\\n",
              "0      51          1       1        1              4   171.0         15   \n",
              "1      37          1       1        1              3    96.0         18   \n",
              "2      53          1       1        1              6    86.0         20   \n",
              "3      33          1       1        1              2   176.0         18   \n",
              "4      46          1       1        1              6   420.0         15   \n",
              "5      34          1       1        1              6   109.0         15   \n",
              "6      61          1       0        1              3    39.0         20   \n",
              "7      55          1       0        1              6   132.0         16   \n",
              "8      35          1       1        1              5    92.0         18   \n",
              "9      49          1       1        1              3    27.0         16   \n",
              "10     50          1       0        1              4    18.0          8   \n",
              "11     49          1       1        1              2    66.0         15   \n",
              "12     48          1       1        1              6    50.0         12   \n",
              "13     37          1       0        1              7   139.0         15   \n",
              "14     56          1       1        1              5   127.0         13   \n",
              "15     30          1       1        1              7    79.0         15   \n",
              "16     63          1       0        1              3    85.0         20   \n",
              "17     54          0       1        1              5   122.0         12   \n",
              "18     51          1       1        0              1    30.0         20   \n",
              "19     45          1       1        1              5    83.0         18   \n",
              "20     34          1       0        1              3   289.0         15   \n",
              "21     41          1       0        0              4    74.0         15   \n",
              "22     49          1       1        1              3   222.0         20   \n",
              "23     56          1       0        1              3    73.0         16   \n",
              "24     41          1       1        1              5   161.0          9   \n",
              "25     59          1       1        1              4    71.0         20   \n",
              "26     61          1       0        0              2   122.0         20   \n",
              "27     38          0       1        1              3   242.0         18   \n",
              "28     52          1       0        1              3   276.0         15   \n",
              "29     49          1       1        1              4   104.0         18   \n",
              "...   ...        ...     ...      ...            ...     ...        ...   \n",
              "9970   51          1       1        0              1   110.0         20   \n",
              "9971   62          1       1        1              2   132.0         20   \n",
              "9972   60          0       1        0              2     6.0          8   \n",
              "9973   44          1       1        1              3    10.0         18   \n",
              "9974   34          0       1        0              6    90.0          8   \n",
              "9975   22          1       1        0              2     8.0         18   \n",
              "9976   54          1       0        1              2   240.0          8   \n",
              "9977   32          1       1        1              5    64.0          8   \n",
              "9978   40          1       1        1              4     6.0          8   \n",
              "9979   42          1       1        1              7    54.0         12   \n",
              "9980   39          1       1        1              7   131.0         15   \n",
              "9981   57          1       1        1              4   106.0         20   \n",
              "9982   52          0       0        0              1    39.0          8   \n",
              "9983   44          1       1        1              5   128.0          8   \n",
              "9984   56          1       1        0              1    54.0          9   \n",
              "9985   43          1       1        1              4    31.0         18   \n",
              "9986   40          1       1        0              1   109.0         18   \n",
              "9987   27          1       1        0              1   126.0         18   \n",
              "9988   59          1       0        0              2    20.0         13   \n",
              "9989   31          1       1        1              4    78.0         12   \n",
              "9990   47          1       1        0              3   156.0         18   \n",
              "9991   27          1       1        0              2    32.0         12   \n",
              "9992   39          1       1        0              1   132.0         18   \n",
              "9993   37          1       1        0              2    71.0         18   \n",
              "9994   36          1       1        1              5    77.0         12   \n",
              "9995   27          1       1        0              1   140.5         12   \n",
              "9996   32          1       1        1              2    79.0         11   \n",
              "9997   35          0       1        0              1    15.0          8   \n",
              "9998   26          0       0        0              5     5.0         11   \n",
              "9999   26          0       1        1              2     6.0          8   \n",
              "\n",
              "      Church  \n",
              "0          0  \n",
              "1          0  \n",
              "2          0  \n",
              "3          1  \n",
              "4          1  \n",
              "5          0  \n",
              "6          1  \n",
              "7          0  \n",
              "8          1  \n",
              "9          0  \n",
              "10         0  \n",
              "11         1  \n",
              "12         1  \n",
              "13         1  \n",
              "14         1  \n",
              "15         1  \n",
              "16         0  \n",
              "17         0  \n",
              "18         1  \n",
              "19         1  \n",
              "20         0  \n",
              "21         0  \n",
              "22         1  \n",
              "23         0  \n",
              "24         1  \n",
              "25         1  \n",
              "26         0  \n",
              "27         1  \n",
              "28         0  \n",
              "29         0  \n",
              "...      ...  \n",
              "9970       1  \n",
              "9971       0  \n",
              "9972       0  \n",
              "9973       0  \n",
              "9974       1  \n",
              "9975       1  \n",
              "9976       0  \n",
              "9977       0  \n",
              "9978       1  \n",
              "9979       1  \n",
              "9980       1  \n",
              "9981       1  \n",
              "9982       0  \n",
              "9983       1  \n",
              "9984       1  \n",
              "9985       0  \n",
              "9986       1  \n",
              "9987       0  \n",
              "9988       1  \n",
              "9989       1  \n",
              "9990       0  \n",
              "9991       0  \n",
              "9992       1  \n",
              "9993       0  \n",
              "9994       0  \n",
              "9995       0  \n",
              "9996       1  \n",
              "9997       1  \n",
              "9998       1  \n",
              "9999       0  \n",
              "\n",
              "[10000 rows x 8 columns]"
            ]
          },
          "metadata": {
            "tags": []
          },
          "execution_count": 6
        }
      ]
    },
    {
      "cell_type": "code",
      "metadata": {
        "id": "GYaSevqPn4KP"
      },
      "source": [
        "from sklearn.model_selection import train_test_split\n",
        "X_train,X_test,Y_train,Y_test=train_test_split(X,Y,test_size=0.2,random_state=42)"
      ],
      "execution_count": null,
      "outputs": []
    },
    {
      "cell_type": "markdown",
      "metadata": {
        "id": "Yf62ngOan4KQ"
      },
      "source": [
        "### Exploratory data analysis"
      ]
    },
    {
      "cell_type": "markdown",
      "metadata": {
        "id": "IxZW8Weyn4KQ"
      },
      "source": [
        "### Model building"
      ]
    },
    {
      "cell_type": "code",
      "metadata": {
        "id": "-UfoivMNn4KQ",
        "outputId": "2d10caa7-10a9-4bb9-9806-7ec36b184251"
      },
      "source": [
        "#Build the logistic regression model\n",
        "import statsmodels.api as sm\n",
        "\n",
        "logit = sm.Logit(Y_train.astype(float), sm.add_constant(X_train.astype(float)))\n",
        "lg = logit.fit()"
      ],
      "execution_count": null,
      "outputs": [
        {
          "output_type": "stream",
          "text": [
            "Optimization terminated successfully.\n",
            "         Current function value: 0.527452\n",
            "         Iterations 6\n"
          ],
          "name": "stdout"
        }
      ]
    },
    {
      "cell_type": "code",
      "metadata": {
        "id": "o5qV9aLkn4KR",
        "outputId": "2c22b854-ffdb-4a54-b93d-a84544f3e3f5"
      },
      "source": [
        "#Summary of logistic regression\n",
        "from scipy import stats\n",
        "stats.chisqprob = lambda chisq, df: stats.chi2.sf(chisq, df)\n",
        "print(lg.summary())"
      ],
      "execution_count": null,
      "outputs": [
        {
          "output_type": "stream",
          "text": [
            "                           Logit Regression Results                           \n",
            "==============================================================================\n",
            "Dep. Variable:              Undecided   No. Observations:                 8000\n",
            "Model:                          Logit   Df Residuals:                     7991\n",
            "Method:                           MLE   Df Model:                            8\n",
            "Date:                Fri, 09 Apr 2021   Pseudo R-squ.:                  0.2166\n",
            "Time:                        04:09:31   Log-Likelihood:                -4219.6\n",
            "converged:                       True   LL-Null:                       -5386.5\n",
            "Covariance Type:            nonrobust   LLR p-value:                     0.000\n",
            "=================================================================================\n",
            "                    coef    std err          z      P>|z|      [0.025      0.975]\n",
            "---------------------------------------------------------------------------------\n",
            "const            -3.6985      0.188    -19.723      0.000      -4.066      -3.331\n",
            "Age              -0.0147      0.003     -5.687      0.000      -0.020      -0.010\n",
            "HomeOwner         0.5033      0.081      6.181      0.000       0.344       0.663\n",
            "Female            1.1581      0.071     16.403      0.000       1.020       1.297\n",
            "Married           0.2522      0.072      3.496      0.000       0.111       0.394\n",
            "HouseholdSize     0.1774      0.020      8.966      0.000       0.139       0.216\n",
            "Income           -0.0061      0.000    -14.244      0.000      -0.007      -0.005\n",
            "Education         0.2087      0.008     27.028      0.000       0.194       0.224\n",
            "Church           -1.6479      0.056    -29.658      0.000      -1.757      -1.539\n",
            "=================================================================================\n"
          ],
          "name": "stdout"
        }
      ]
    },
    {
      "cell_type": "markdown",
      "metadata": {
        "id": "mTJ93gokn4KR"
      },
      "source": [
        "### Step1 - overall significance of the model"
      ]
    },
    {
      "cell_type": "code",
      "metadata": {
        "id": "h5XPA0YHn4KR",
        "outputId": "f2bb24a2-c5c6-40cd-934b-845d1a0490a4"
      },
      "source": [
        "#P-value of the overall model\n",
        "lg.llr_pvalue"
      ],
      "execution_count": null,
      "outputs": [
        {
          "output_type": "execute_result",
          "data": {
            "text/plain": [
              "0.0"
            ]
          },
          "metadata": {
            "tags": []
          },
          "execution_count": 10
        }
      ]
    },
    {
      "cell_type": "markdown",
      "metadata": {
        "id": "rB_YVYxRn4KS"
      },
      "source": [
        "** Since the pval is extremely low, the model is overwhelmingly significant **"
      ]
    },
    {
      "cell_type": "markdown",
      "metadata": {
        "id": "KqmkO_eGn4KS"
      },
      "source": [
        "### Step2 - Interpreting McFadden R2"
      ]
    },
    {
      "cell_type": "code",
      "metadata": {
        "id": "dw3BKRDWn4KS",
        "outputId": "9b76d4b1-df8d-49c6-8409-6e2eef208338"
      },
      "source": [
        "#Calculating gain\n",
        "Gain = lg.llf-lg.llnull\n",
        "G2Stat = Gain *2\n",
        "\n",
        "print(\"Gain =\",Gain, \"G2Stat =\",G2Stat)"
      ],
      "execution_count": null,
      "outputs": [
        {
          "output_type": "stream",
          "text": [
            "Gain = 1166.902604979602 G2Stat = 2333.805209959204\n"
          ],
          "name": "stdout"
        }
      ]
    },
    {
      "cell_type": "code",
      "metadata": {
        "id": "huuamaxPn4KT",
        "outputId": "aebdb0c6-7e5f-47b8-e0f9-285ead674ae2"
      },
      "source": [
        "#Calculating McFadden R2\n",
        "McFaddenR2 = 1-(lg.llf/lg.llnull)\n",
        "print(\"McFaddenR2 = \", McFaddenR2)"
      ],
      "execution_count": null,
      "outputs": [
        {
          "output_type": "stream",
          "text": [
            "McFaddenR2 =  0.21663398782046273\n"
          ],
          "name": "stdout"
        }
      ]
    },
    {
      "cell_type": "markdown",
      "metadata": {
        "id": "Y5nA8TkUn4KT"
      },
      "source": [
        "## ** Interpretation of McFadden R2 -22.00% of the uncertainty produced by the intercept only model is explained by the full model**"
      ]
    },
    {
      "cell_type": "markdown",
      "metadata": {
        "id": "E6ekpfk6n4KT"
      },
      "source": [
        "### Step3 - Individual coefficient significance"
      ]
    },
    {
      "cell_type": "code",
      "metadata": {
        "id": "Sw9TxCSUn4KU",
        "outputId": "846c5eed-dd22-4170-f07c-53c80f27bc87"
      },
      "source": [
        "# Individual coef\n",
        "lgcoef = pd.DataFrame(lg.params, columns=['coef'])\n",
        "lgcoef['pval']=lg.pvalues\n",
        "pd.options.display.float_format = '{:.4f}'.format\n",
        "lgcoef"
      ],
      "execution_count": null,
      "outputs": [
        {
          "output_type": "execute_result",
          "data": {
            "text/html": [
              "<div>\n",
              "<style scoped>\n",
              "    .dataframe tbody tr th:only-of-type {\n",
              "        vertical-align: middle;\n",
              "    }\n",
              "\n",
              "    .dataframe tbody tr th {\n",
              "        vertical-align: top;\n",
              "    }\n",
              "\n",
              "    .dataframe thead th {\n",
              "        text-align: right;\n",
              "    }\n",
              "</style>\n",
              "<table border=\"1\" class=\"dataframe\">\n",
              "  <thead>\n",
              "    <tr style=\"text-align: right;\">\n",
              "      <th></th>\n",
              "      <th>coef</th>\n",
              "      <th>pval</th>\n",
              "    </tr>\n",
              "  </thead>\n",
              "  <tbody>\n",
              "    <tr>\n",
              "      <th>const</th>\n",
              "      <td>-3.6985</td>\n",
              "      <td>0.0000</td>\n",
              "    </tr>\n",
              "    <tr>\n",
              "      <th>Age</th>\n",
              "      <td>-0.0147</td>\n",
              "      <td>0.0000</td>\n",
              "    </tr>\n",
              "    <tr>\n",
              "      <th>HomeOwner</th>\n",
              "      <td>0.5033</td>\n",
              "      <td>0.0000</td>\n",
              "    </tr>\n",
              "    <tr>\n",
              "      <th>Female</th>\n",
              "      <td>1.1581</td>\n",
              "      <td>0.0000</td>\n",
              "    </tr>\n",
              "    <tr>\n",
              "      <th>Married</th>\n",
              "      <td>0.2522</td>\n",
              "      <td>0.0005</td>\n",
              "    </tr>\n",
              "    <tr>\n",
              "      <th>HouseholdSize</th>\n",
              "      <td>0.1774</td>\n",
              "      <td>0.0000</td>\n",
              "    </tr>\n",
              "    <tr>\n",
              "      <th>Income</th>\n",
              "      <td>-0.0061</td>\n",
              "      <td>0.0000</td>\n",
              "    </tr>\n",
              "    <tr>\n",
              "      <th>Education</th>\n",
              "      <td>0.2087</td>\n",
              "      <td>0.0000</td>\n",
              "    </tr>\n",
              "    <tr>\n",
              "      <th>Church</th>\n",
              "      <td>-1.6479</td>\n",
              "      <td>0.0000</td>\n",
              "    </tr>\n",
              "  </tbody>\n",
              "</table>\n",
              "</div>"
            ],
            "text/plain": [
              "                 coef   pval\n",
              "const         -3.6985 0.0000\n",
              "Age           -0.0147 0.0000\n",
              "HomeOwner      0.5033 0.0000\n",
              "Female         1.1581 0.0000\n",
              "Married        0.2522 0.0005\n",
              "HouseholdSize  0.1774 0.0000\n",
              "Income        -0.0061 0.0000\n",
              "Education      0.2087 0.0000\n",
              "Church        -1.6479 0.0000"
            ]
          },
          "metadata": {
            "tags": []
          },
          "execution_count": 13
        }
      ]
    },
    {
      "cell_type": "code",
      "metadata": {
        "id": "QEiaVuL_n4KU"
      },
      "source": [
        " "
      ],
      "execution_count": null,
      "outputs": []
    },
    {
      "cell_type": "markdown",
      "metadata": {
        "id": "EIV5mlORn4KU"
      },
      "source": [
        "### Step4 - Calculate and interpret Odds Ratio & probability"
      ]
    },
    {
      "cell_type": "code",
      "metadata": {
        "id": "D1zjYGnQn4KV",
        "outputId": "a668d98b-88d9-4f0a-d310-4e437e9700b4"
      },
      "source": [
        "#Exponential of coef to get odds ratio\n",
        "lgcoef.loc[:, \"Odds_ratio\"] = np.exp(lgcoef.coef)\n",
        "\n",
        "#Probability from Odds ratio\n",
        "lgcoef['probability'] = lgcoef['Odds_ratio']/(1+lgcoef['Odds_ratio'])\n",
        "\n",
        "#Sort dataframe by decreasing Odds ratio\n",
        "lgcoef = lgcoef.sort_values(by=\"Odds_ratio\", ascending=False)\n",
        "lgcoef"
      ],
      "execution_count": null,
      "outputs": [
        {
          "output_type": "execute_result",
          "data": {
            "text/html": [
              "<div>\n",
              "<style scoped>\n",
              "    .dataframe tbody tr th:only-of-type {\n",
              "        vertical-align: middle;\n",
              "    }\n",
              "\n",
              "    .dataframe tbody tr th {\n",
              "        vertical-align: top;\n",
              "    }\n",
              "\n",
              "    .dataframe thead th {\n",
              "        text-align: right;\n",
              "    }\n",
              "</style>\n",
              "<table border=\"1\" class=\"dataframe\">\n",
              "  <thead>\n",
              "    <tr style=\"text-align: right;\">\n",
              "      <th></th>\n",
              "      <th>coef</th>\n",
              "      <th>pval</th>\n",
              "      <th>Odds_ratio</th>\n",
              "      <th>probability</th>\n",
              "    </tr>\n",
              "  </thead>\n",
              "  <tbody>\n",
              "    <tr>\n",
              "      <th>Female</th>\n",
              "      <td>1.1581</td>\n",
              "      <td>0.0000</td>\n",
              "      <td>3.1840</td>\n",
              "      <td>0.7610</td>\n",
              "    </tr>\n",
              "    <tr>\n",
              "      <th>HomeOwner</th>\n",
              "      <td>0.5033</td>\n",
              "      <td>0.0000</td>\n",
              "      <td>1.6542</td>\n",
              "      <td>0.6232</td>\n",
              "    </tr>\n",
              "    <tr>\n",
              "      <th>Married</th>\n",
              "      <td>0.2522</td>\n",
              "      <td>0.0005</td>\n",
              "      <td>1.2868</td>\n",
              "      <td>0.5627</td>\n",
              "    </tr>\n",
              "    <tr>\n",
              "      <th>Education</th>\n",
              "      <td>0.2087</td>\n",
              "      <td>0.0000</td>\n",
              "      <td>1.2320</td>\n",
              "      <td>0.5520</td>\n",
              "    </tr>\n",
              "    <tr>\n",
              "      <th>HouseholdSize</th>\n",
              "      <td>0.1774</td>\n",
              "      <td>0.0000</td>\n",
              "      <td>1.1942</td>\n",
              "      <td>0.5442</td>\n",
              "    </tr>\n",
              "    <tr>\n",
              "      <th>Income</th>\n",
              "      <td>-0.0061</td>\n",
              "      <td>0.0000</td>\n",
              "      <td>0.9939</td>\n",
              "      <td>0.4985</td>\n",
              "    </tr>\n",
              "    <tr>\n",
              "      <th>Age</th>\n",
              "      <td>-0.0147</td>\n",
              "      <td>0.0000</td>\n",
              "      <td>0.9854</td>\n",
              "      <td>0.4963</td>\n",
              "    </tr>\n",
              "    <tr>\n",
              "      <th>Church</th>\n",
              "      <td>-1.6479</td>\n",
              "      <td>0.0000</td>\n",
              "      <td>0.1925</td>\n",
              "      <td>0.1614</td>\n",
              "    </tr>\n",
              "    <tr>\n",
              "      <th>const</th>\n",
              "      <td>-3.6985</td>\n",
              "      <td>0.0000</td>\n",
              "      <td>0.0248</td>\n",
              "      <td>0.0242</td>\n",
              "    </tr>\n",
              "  </tbody>\n",
              "</table>\n",
              "</div>"
            ],
            "text/plain": [
              "                 coef   pval  Odds_ratio  probability\n",
              "Female         1.1581 0.0000      3.1840       0.7610\n",
              "HomeOwner      0.5033 0.0000      1.6542       0.6232\n",
              "Married        0.2522 0.0005      1.2868       0.5627\n",
              "Education      0.2087 0.0000      1.2320       0.5520\n",
              "HouseholdSize  0.1774 0.0000      1.1942       0.5442\n",
              "Income        -0.0061 0.0000      0.9939       0.4985\n",
              "Age           -0.0147 0.0000      0.9854       0.4963\n",
              "Church        -1.6479 0.0000      0.1925       0.1614\n",
              "const         -3.6985 0.0000      0.0248       0.0242"
            ]
          },
          "metadata": {
            "tags": []
          },
          "execution_count": 14
        }
      ]
    },
    {
      "cell_type": "markdown",
      "metadata": {
        "id": "v9Ta103Hn4KV"
      },
      "source": [
        "Make the prediction"
      ]
    },
    {
      "cell_type": "code",
      "metadata": {
        "id": "IaqQGfhFn4KV",
        "outputId": "0e56fb60-bacf-472f-948c-4b213974c6ee"
      },
      "source": [
        "#Compute class from predicted probability\n",
        "X_train=sm.add_constant(X_train)\n",
        "pred_prob=lg.predict(X_train)\n",
        "pred_class = (pred_prob>0.5).astype(np.int)\n",
        "pred_class"
      ],
      "execution_count": null,
      "outputs": [
        {
          "output_type": "execute_result",
          "data": {
            "text/plain": [
              "9254    0\n",
              "1561    0\n",
              "1670    0\n",
              "6087    0\n",
              "6669    1\n",
              "5933    0\n",
              "8829    1\n",
              "7945    0\n",
              "3508    1\n",
              "2002    1\n",
              "5866    1\n",
              "168     0\n",
              "2588    1\n",
              "5905    0\n",
              "9529    1\n",
              "6384    1\n",
              "7824    0\n",
              "9779    0\n",
              "4629    0\n",
              "8560    0\n",
              "9291    0\n",
              "6874    0\n",
              "6521    0\n",
              "8979    0\n",
              "6647    0\n",
              "9825    0\n",
              "210     1\n",
              "5278    0\n",
              "1919    0\n",
              "718     1\n",
              "       ..\n",
              "2734    1\n",
              "189     1\n",
              "9167    0\n",
              "2747    1\n",
              "2047    0\n",
              "7849    1\n",
              "2558    0\n",
              "9274    0\n",
              "8666    0\n",
              "6396    1\n",
              "3385    1\n",
              "4555    0\n",
              "1184    1\n",
              "6420    1\n",
              "5051    1\n",
              "5311    0\n",
              "2433    1\n",
              "6949    1\n",
              "769     0\n",
              "1685    0\n",
              "8322    0\n",
              "5578    0\n",
              "4426    0\n",
              "466     1\n",
              "6265    0\n",
              "5734    0\n",
              "5191    1\n",
              "5390    1\n",
              "860     0\n",
              "7270    1\n",
              "Length: 8000, dtype: int32"
            ]
          },
          "metadata": {
            "tags": []
          },
          "execution_count": 15
        }
      ]
    },
    {
      "cell_type": "markdown",
      "metadata": {
        "id": "VsdQLBxRn4KW"
      },
      "source": [
        "### Step5 - Model performance measure"
      ]
    },
    {
      "cell_type": "code",
      "metadata": {
        "id": "LbCfUpSOn4KX"
      },
      "source": [
        "from sklearn.metrics import accuracy_score, confusion_matrix, recall_score, precision_score"
      ],
      "execution_count": null,
      "outputs": []
    },
    {
      "cell_type": "code",
      "metadata": {
        "id": "Ih5u1Ls5n4KY",
        "outputId": "cb173ce3-f3a7-4c0a-9fba-884a3595f70e"
      },
      "source": [
        "#Confusion matrix\n",
        "confusion_matrix(Y_train.astype(float), pred_class)"
      ],
      "execution_count": null,
      "outputs": [
        {
          "output_type": "execute_result",
          "data": {
            "text/plain": [
              "array([[4002,  792],\n",
              "       [1216, 1990]], dtype=int64)"
            ]
          },
          "metadata": {
            "tags": []
          },
          "execution_count": 17
        }
      ]
    },
    {
      "cell_type": "code",
      "metadata": {
        "id": "eyY6NU_Zn4KY",
        "outputId": "664bcc42-6284-438a-fe71-317754e748d9"
      },
      "source": [
        "#Accuracy, recall, precision\n",
        "accuracy = round(accuracy_score(Y_train.astype(float), pred_class),2)\n",
        "recall = round(recall_score(Y_train.astype(float), pred_class),2)\n",
        "precision = round(precision_score(Y_train.astype(float), pred_class),2)\n",
        "\n",
        "print(\"accuracy: \",accuracy)\n",
        "print(\"recall: \",recall)\n",
        "print(\"precision: \",precision)"
      ],
      "execution_count": null,
      "outputs": [
        {
          "output_type": "stream",
          "text": [
            "accuracy:  0.75\n",
            "recall:  0.62\n",
            "precision:  0.72\n"
          ],
          "name": "stdout"
        }
      ]
    },
    {
      "cell_type": "markdown",
      "metadata": {
        "id": "863LxerFn4KZ"
      },
      "source": [
        "### Step6 - ROC curve and AUC"
      ]
    },
    {
      "cell_type": "code",
      "metadata": {
        "id": "jztIzPT4n4KZ",
        "outputId": "43241190-b3dc-44b2-db05-41447734b63a"
      },
      "source": [
        "# ROC curve and AUC\n",
        "from sklearn.metrics import roc_auc_score\n",
        "from sklearn.metrics import roc_curve\n",
        "\n",
        "logit_roc_auc = roc_auc_score(Y_train.astype(float), pred_class)\n",
        "fpr, tpr, thresholds = roc_curve(Y_train.astype(float), pred_prob)\n",
        "plt.figure()\n",
        "plt.plot(fpr, tpr, label='Logistic Regression (area = %0.3f)' % logit_roc_auc)\n",
        "plt.plot([0, 1], [0, 1],'r--')\n",
        "plt.xlim([0.0, 1.0])\n",
        "plt.ylim([0.0, 1.05])\n",
        "plt.xlabel('False Positive Rate')\n",
        "plt.ylabel('True Positive Rate')\n",
        "plt.title('Receiver operating characteristic')\n",
        "plt.legend(loc=\"lower right\")\n",
        "plt.savefig('Log_ROC')\n",
        "plt.show()"
      ],
      "execution_count": null,
      "outputs": [
        {
          "output_type": "display_data",
          "data": {
            "image/png": "[encoded data removed]",
            "text/plain": [
              "<Figure size 432x288 with 1 Axes>"
            ]
          },
          "metadata": {
            "tags": [],
            "needs_background": "light"
          }
        }
      ]
    },
    {
      "cell_type": "code",
      "metadata": {
        "id": "lvVsRPBon4Ka",
        "outputId": "4e7ce1f7-b8f8-4578-a25e-98e0f0f3fdca"
      },
      "source": [
        "#Compute class from predicted probability\n",
        "X_test=sm.add_constant(X_test)\n",
        "pred_prob=lg.predict(X_test)\n",
        "pred_class = (pred_prob>0.5).astype(np.int)\n",
        "pred_class"
      ],
      "execution_count": null,
      "outputs": [
        {
          "output_type": "execute_result",
          "data": {
            "text/plain": [
              "6252    1\n",
              "4684    0\n",
              "1731    1\n",
              "4742    0\n",
              "4521    0\n",
              "6340    0\n",
              "576     0\n",
              "5202    0\n",
              "6363    0\n",
              "439     1\n",
              "2750    0\n",
              "7487    1\n",
              "5272    0\n",
              "5653    0\n",
              "3999    1\n",
              "6033    0\n",
              "582     1\n",
              "9930    0\n",
              "7051    0\n",
              "8158    0\n",
              "9896    0\n",
              "2249    0\n",
              "4640    0\n",
              "9485    0\n",
              "4947    1\n",
              "9920    0\n",
              "1963    0\n",
              "8243    0\n",
              "6590    0\n",
              "8847    0\n",
              "       ..\n",
              "4848    0\n",
              "2291    1\n",
              "2133    0\n",
              "550     0\n",
              "1740    0\n",
              "5289    1\n",
              "1817    0\n",
              "4698    0\n",
              "5181    0\n",
              "3018    1\n",
              "17      0\n",
              "1770    1\n",
              "1888    1\n",
              "2152    0\n",
              "1642    1\n",
              "7846    0\n",
              "4193    0\n",
              "9432    0\n",
              "8898    0\n",
              "533     0\n",
              "132     1\n",
              "7722    0\n",
              "8458    0\n",
              "964     0\n",
              "8719    1\n",
              "6412    0\n",
              "8285    0\n",
              "7853    1\n",
              "1095    0\n",
              "6929    1\n",
              "Length: 2000, dtype: int32"
            ]
          },
          "metadata": {
            "tags": []
          },
          "execution_count": 20
        }
      ]
    },
    {
      "cell_type": "code",
      "metadata": {
        "id": "YMPPnETvn4Ka",
        "outputId": "48411f68-0798-444f-c150-5863d5c6a0cb"
      },
      "source": [
        "#Accuracy, recall, precision\n",
        "accuracy = round(accuracy_score(Y_test.astype(float), pred_class),2)\n",
        "recall = round(recall_score(Y_test.astype(float), pred_class),2)\n",
        "precision = round(precision_score(Y_test.astype(float), pred_class),2)\n",
        "\n",
        "print(\"accuracy: \",accuracy)\n",
        "print(\"recall: \",recall)\n",
        "print(\"precision: \",precision)"
      ],
      "execution_count": null,
      "outputs": [
        {
          "output_type": "stream",
          "text": [
            "accuracy:  0.74\n",
            "recall:  0.62\n",
            "precision:  0.71\n"
          ],
          "name": "stdout"
        }
      ]
    },
    {
      "cell_type": "code",
      "metadata": {
        "id": "--LodbA8n4Ka",
        "outputId": "48f9efa7-b9b9-4c32-abc3-9e0992f785da"
      },
      "source": [
        "#Confusion matrix\n",
        "confusion_matrix(Y_test.astype(float), pred_class)"
      ],
      "execution_count": null,
      "outputs": [
        {
          "output_type": "execute_result",
          "data": {
            "text/plain": [
              "array([[989, 203],\n",
              "       [311, 497]], dtype=int64)"
            ]
          },
          "metadata": {
            "tags": []
          },
          "execution_count": 22
        }
      ]
    },
    {
      "cell_type": "code",
      "metadata": {
        "id": "n0fEkbiQn4Kb"
      },
      "source": [
        ""
      ],
      "execution_count": null,
      "outputs": []
    }
  ]
}